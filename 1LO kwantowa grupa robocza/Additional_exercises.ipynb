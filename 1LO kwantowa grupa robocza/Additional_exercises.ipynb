{
 "cells": [
  {
   "cell_type": "markdown",
   "id": "3803fd98-a46f-4f54-954a-30abbf14d5ed",
   "metadata": {},
   "source": [
    "# Additional exercises"
   ]
  },
  {
   "cell_type": "markdown",
   "id": "be892090-2f35-4cff-be11-273ec97dd308",
   "metadata": {},
   "source": [
    "### Exercise 1\n",
    "Using VQE algorithm on quantum computer simulatpr, fiond the smallest eigenvalue of the following observable $\\hat{O}=2II-2XX+3YY-3ZZ$."
   ]
  },
  {
   "cell_type": "markdown",
   "id": "2feb6761-3d75-4287-abe0-4a6da85f5a2c",
   "metadata": {},
   "source": [
    "### Exercise 2\n",
    "Write Qiskit program which prints matrix form of the quantum circuit realizing 3-qubit GHZ state."
   ]
  },
  {
   "cell_type": "markdown",
   "id": "5b1c8a90-d981-498d-96cc-2118ac2b334e",
   "metadata": {},
   "source": [
    "### Exercise 3\n",
    "Using Estimator primitive and quantum computer simulator, find expectation value of "
   ]
  },
  {
   "cell_type": "markdown",
   "id": "85d3af42-7e8c-4fa9-81b0-0582451e4ef5",
   "metadata": {},
   "source": [
    "### Exercise 4\n",
    "Write program in Qiskit using Grover's algorithm to find quantum state identified by the following oracle:\n",
    "\n",
    "```\n",
    "oracle = QuantumCircuit(4, name=\"oracle\")\n",
    "oracle.x(3)\n",
    "oracle.x(1)\n",
    "oracle.compose(MCMT(ZGate(), 3, 1), inplace=True)\n",
    "oracle.x(3)\n",
    "oracle.x(1)\n",
    "\n",
    "oracle.draw()"
   ]
  },
  {
   "attachments": {
    "de885900-5301-4eae-8264-cd7c0152f2c7.png": {
     "image/png": "[encoded data removed]"
    }
   },
   "cell_type": "markdown",
   "id": "15166080-11ab-40bf-b45d-4c21375f5412",
   "metadata": {},
   "source": [
    "### Exercise 5\n",
    "Write program in Qiskit which uses QAOA algorithm to solve MAXCUT problem for the following graph:\n",
    "\n",
    "![image.png](attachment:de885900-5301-4eae-8264-cd7c0152f2c7.png)"
   ]
  },
  {
   "cell_type": "markdown",
   "id": "594f043d-13e9-4fd8-9d67-a247b71ecfba",
   "metadata": {},
   "source": [
    "### Exercise 6\n",
    "Write Qiskit program using VQC algorithm to train model able to classify the below data. Check the accuracy of the model."
   ]
  },
  {
   "cell_type": "code",
   "execution_count": 7,
   "id": "16b93d4b-d05e-40c5-985d-8aaa5902fe94",
   "metadata": {
    "scrolled": true
   },
   "outputs": [
    {
     "name": "stdout",
     "output_type": "stream",
     "text": [
      "<class 'pandas.core.frame.DataFrame'>\n",
      "RangeIndex: 100 entries, 0 to 99\n",
      "Data columns (total 6 columns):\n",
      " #   Column  Non-Null Count  Dtype  \n",
      "---  ------  --------------  -----  \n",
      " 0   X1      100 non-null    float64\n",
      " 1   X2      100 non-null    float64\n",
      " 2   X3      100 non-null    float64\n",
      " 3   X4      100 non-null    float64\n",
      " 4   X5      100 non-null    float64\n",
      " 5   y       100 non-null    int32  \n",
      "dtypes: float64(5), int32(1)\n",
      "memory usage: 4.4 KB\n"
     ]
    }
   ],
   "source": [
    "from sklearn.datasets import make_classification\n",
    "import pandas as pd\n",
    "\n",
    "X, y = make_classification(n_samples=100, n_features=5, n_informative=3, n_classes=3, random_state=42)\n",
    " \n",
    "dataset = pd.DataFrame(X)\n",
    "dataset.columns = ['X1', 'X2', 'X3', 'X4', 'X5']\n",
    "dataset['y'] = y\n",
    "dataset.info()"
   ]
  },
  {
   "cell_type": "code",
   "execution_count": 8,
   "id": "d4f724bb-7674-46f0-9ff5-a5189e0ff8c2",
   "metadata": {
    "scrolled": true
   },
   "outputs": [
    {
     "data": {
      "text/html": [
       "<div>\n",
       "<style scoped>\n",
       "    .dataframe tbody tr th:only-of-type {\n",
       "        vertical-align: middle;\n",
       "    }\n",
       "\n",
       "    .dataframe tbody tr th {\n",
       "        vertical-align: top;\n",
       "    }\n",
       "\n",
       "    .dataframe thead th {\n",
       "        text-align: right;\n",
       "    }\n",
       "</style>\n",
       "<table border=\"1\" class=\"dataframe\">\n",
       "  <thead>\n",
       "    <tr style=\"text-align: right;\">\n",
       "      <th></th>\n",
       "      <th>X1</th>\n",
       "      <th>X2</th>\n",
       "      <th>X3</th>\n",
       "      <th>X4</th>\n",
       "      <th>X5</th>\n",
       "      <th>y</th>\n",
       "    </tr>\n",
       "  </thead>\n",
       "  <tbody>\n",
       "    <tr>\n",
       "      <th>0</th>\n",
       "      <td>-1.904652</td>\n",
       "      <td>2.418974</td>\n",
       "      <td>-2.725668</td>\n",
       "      <td>-0.052393</td>\n",
       "      <td>-1.309900</td>\n",
       "      <td>1</td>\n",
       "    </tr>\n",
       "    <tr>\n",
       "      <th>1</th>\n",
       "      <td>-1.660265</td>\n",
       "      <td>-0.517866</td>\n",
       "      <td>-1.701136</td>\n",
       "      <td>-2.111619</td>\n",
       "      <td>-0.480863</td>\n",
       "      <td>0</td>\n",
       "    </tr>\n",
       "    <tr>\n",
       "      <th>2</th>\n",
       "      <td>-0.515505</td>\n",
       "      <td>-1.421793</td>\n",
       "      <td>0.067961</td>\n",
       "      <td>-1.168640</td>\n",
       "      <td>-0.140197</td>\n",
       "      <td>1</td>\n",
       "    </tr>\n",
       "    <tr>\n",
       "      <th>3</th>\n",
       "      <td>1.966623</td>\n",
       "      <td>-1.764680</td>\n",
       "      <td>2.001083</td>\n",
       "      <td>-0.468930</td>\n",
       "      <td>1.875779</td>\n",
       "      <td>1</td>\n",
       "    </tr>\n",
       "    <tr>\n",
       "      <th>4</th>\n",
       "      <td>-3.098919</td>\n",
       "      <td>2.398465</td>\n",
       "      <td>-1.929172</td>\n",
       "      <td>2.419181</td>\n",
       "      <td>-4.134541</td>\n",
       "      <td>1</td>\n",
       "    </tr>\n",
       "  </tbody>\n",
       "</table>\n",
       "</div>"
      ],
      "text/plain": [
       "         X1        X2        X3        X4        X5  y\n",
       "0 -1.904652  2.418974 -2.725668 -0.052393 -1.309900  1\n",
       "1 -1.660265 -0.517866 -1.701136 -2.111619 -0.480863  0\n",
       "2 -0.515505 -1.421793  0.067961 -1.168640 -0.140197  1\n",
       "3  1.966623 -1.764680  2.001083 -0.468930  1.875779  1\n",
       "4 -3.098919  2.398465 -1.929172  2.419181 -4.134541  1"
      ]
     },
     "execution_count": 8,
     "metadata": {},
     "output_type": "execute_result"
    }
   ],
   "source": [
    "dataset.head()"
   ]
  },
  {
   "cell_type": "markdown",
   "id": "209deacd-7c59-407d-847c-6e5818ea766e",
   "metadata": {},
   "source": [
    "### Exercise 7\n",
    "Generate random circuit with width=40 and depth=30. Run transpilation 100 times, choose the one with smallest number of 2-qubit gates and run it on real quantum computer using Sampler primitive."
   ]
  }
 ],
 "metadata": {
  "kernelspec": {
   "display_name": "Python 3 (ipykernel)",
   "language": "python",
   "name": "python3"
  },
  "language_info": {
   "codemirror_mode": {
    "name": "ipython",
    "version": 3
   },
   "file_extension": ".py",
   "mimetype": "text/x-python",
   "name": "python",
   "nbconvert_exporter": "python",
   "pygments_lexer": "ipython3",
   "version": "3.11.4"
  }
 },
 "nbformat": 4,
 "nbformat_minor": 5
}
