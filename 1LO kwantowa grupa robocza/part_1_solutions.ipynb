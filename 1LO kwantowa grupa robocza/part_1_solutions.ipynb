{
 "cells": [
  {
   "cell_type": "markdown",
   "id": "427902c6-3d5e-4908-8640-44758b097854",
   "metadata": {},
   "source": [
    "# All solutions made using Qiskit 1.2.4."
   ]
  },
  {
   "cell_type": "code",
   "execution_count": 33,
   "id": "d2cba635-00ee-40a9-8f1f-7a6fd1f7a3a2",
   "metadata": {},
   "outputs": [],
   "source": [
    "import numpy as np\n",
    "from qiskit.quantum_info import Statevector\n",
    "from qiskit.visualization import array_to_latex\n",
    "from qiskit import QuantumCircuit"
   ]
  },
  {
   "cell_type": "markdown",
   "id": "0ce8ea77-0018-4b8e-902b-ced007b64200",
   "metadata": {},
   "source": [
    "### Exercise 1: Find state of single qubit for which probability of measuring $\\ket{0}$ is 4 times larger than measuring $\\ket{1}$."
   ]
  },
  {
   "cell_type": "code",
   "execution_count": 160,
   "id": "55234c43-064f-4e12-9e3c-0d258889c9d8",
   "metadata": {},
   "outputs": [
    {
     "data": {
      "text/latex": [
       "$$\n",
       "\n",
       "\\begin{bmatrix}\n",
       "\\frac{2 \\sqrt{5}}{5} & \\frac{\\sqrt{5}}{5}  \\\\\n",
       " \\end{bmatrix}\n",
       "$$"
      ],
      "text/plain": [
       "<IPython.core.display.Latex object>"
      ]
     },
     "execution_count": 160,
     "metadata": {},
     "output_type": "execute_result"
    }
   ],
   "source": [
    "from qiskit.providers.basic_provider import BasicSimulator\n",
    "from qiskit.transpiler.preset_passmanagers import generate_preset_pass_manager\n",
    "from qiskit.primitives import StatevectorSampler\n",
    "\n",
    "initial_state = Statevector([sqrt(4)/sqrt(5), 1/sqrt(5)])\n",
    "\n",
    "array_to_latex(initial_state)"
   ]
  },
  {
   "cell_type": "markdown",
   "id": "a8318720-9ceb-4aa1-b9fe-0485842c1596",
   "metadata": {},
   "source": [
    "Let's (semi)proof it:"
   ]
  },
  {
   "cell_type": "code",
   "execution_count": 161,
   "id": "ff5a68f2-084d-459b-9d45-4e4feed7cccc",
   "metadata": {},
   "outputs": [
    {
     "name": "stdout",
     "output_type": "stream",
     "text": [
      "The probabilities are: {'1': 0.199643, '0': 0.800357}\n"
     ]
    }
   ],
   "source": [
    "qc = QuantumCircuit(1, 1)\n",
    "qc.initialize(initial_state, [0])\n",
    "qc.measure_all()\n",
    "\n",
    "sampler = StatevectorSampler()\n",
    "\n",
    "num_shots = 1000000\n",
    "pm = generate_preset_pass_manager(optimization_level=1)\n",
    "isa_circuit = pm.run(qc)\n",
    "result = sampler.run([isa_circuit], shots=num_shots).result()\n",
    "data_pub = result[0].data\n",
    "counts = data_pub.meas.get_counts()\n",
    "\n",
    "for i in counts:\n",
    "    counts[i] = float(counts[i]/num_shots)\n",
    "\n",
    "print(f\"The probabilities are: {counts}\")"
   ]
  },
  {
   "cell_type": "markdown",
   "id": "10f56765-8fb8-4cd9-b898-86cd27f40c1f",
   "metadata": {},
   "source": [
    "### Exercise 2: normalize vectors [1, -i, 1, 0] and [5, 2i, 1, 1]"
   ]
  },
  {
   "cell_type": "code",
   "execution_count": 34,
   "id": "2083abc6-713a-4937-aaec-42720b797681",
   "metadata": {},
   "outputs": [
    {
     "data": {
      "text/latex": [
       "$$\n",
       "\n",
       "\\begin{bmatrix}\n",
       "\\frac{\\sqrt{3}}{3}  \\\\\n",
       " - \\frac{\\sqrt{3} i}{3}  \\\\\n",
       " \\frac{\\sqrt{3}}{3}  \\\\\n",
       " 0  \\\\\n",
       " \\end{bmatrix}\n",
       "$$"
      ],
      "text/plain": [
       "<IPython.core.display.Latex object>"
      ]
     },
     "execution_count": 34,
     "metadata": {},
     "output_type": "execute_result"
    }
   ],
   "source": [
    "v1 = np.array([[1],[-1.j],[1],[0]])\n",
    "norm = np.linalg.norm(v1)\n",
    "normalized_v1= v1/norm\n",
    "array_to_latex(normalized_v1)"
   ]
  },
  {
   "cell_type": "code",
   "execution_count": 35,
   "id": "e765a09b-bd86-4161-ae39-353a12f247ab",
   "metadata": {},
   "outputs": [
    {
     "data": {
      "text/latex": [
       "$$\n",
       "\n",
       "\\begin{bmatrix}\n",
       "0.8980265101  \\\\\n",
       " \\frac{2 \\sqrt{31} i}{31}  \\\\\n",
       " \\frac{\\sqrt{31}}{31}  \\\\\n",
       " \\frac{\\sqrt{31}}{31}  \\\\\n",
       " \\end{bmatrix}\n",
       "$$"
      ],
      "text/plain": [
       "<IPython.core.display.Latex object>"
      ]
     },
     "execution_count": 35,
     "metadata": {},
     "output_type": "execute_result"
    }
   ],
   "source": [
    "v2 = np.array([[5],[2.j],[1],[1]])\n",
    "norm = np.linalg.norm(v2)\n",
    "normalized_v2 = v2/norm\n",
    "array_to_latex(normalized_v2)"
   ]
  },
  {
   "cell_type": "markdown",
   "id": "8cc29289-8e24-448c-8c6b-951743016107",
   "metadata": {},
   "source": [
    "### Exercise 3: What is the result of applying of the following operator on the 2-qubit bell state:\n",
    "$\n",
    "\\begin{bmatrix} \n",
    "1 & 0 & 0 & 0 \\\\\n",
    "0 & 0 & 0 & 1 \\\\\n",
    "0 & 0 & 1 & 0 \\\\\n",
    "0 & 1 & 0 & 0\n",
    "\\end{bmatrix}\n",
    "$"
   ]
  },
  {
   "cell_type": "code",
   "execution_count": 119,
   "id": "eea2a50a-0e57-4c5e-bc36-1fc81a457176",
   "metadata": {},
   "outputs": [
    {
     "data": {
      "text/latex": [
       "$$\n",
       "\n",
       "\\begin{bmatrix}\n",
       "\\frac{\\sqrt{2}}{2} & 0 & 0 & \\frac{\\sqrt{2}}{2}  \\\\\n",
       " \\end{bmatrix}\n",
       "$$"
      ],
      "text/plain": [
       "<IPython.core.display.Latex object>"
      ]
     },
     "execution_count": 119,
     "metadata": {},
     "output_type": "execute_result"
    }
   ],
   "source": [
    "qc = QuantumCircuit(2,2)\n",
    "qc.h(0)\n",
    "qc.cx(0,1)\n",
    "bell_state = Statevector.from_instruction(qc)\n",
    "array_to_latex(bell_state)"
   ]
  },
  {
   "cell_type": "code",
   "execution_count": 40,
   "id": "a817c5e9-04a4-433d-a36a-2487ce755600",
   "metadata": {},
   "outputs": [
    {
     "data": {
      "text/latex": [
       "$$\n",
       "\n",
       "\\begin{bmatrix}\n",
       "\\frac{\\sqrt{2}}{2} & \\frac{\\sqrt{2}}{2} & 0 & 0  \\\\\n",
       " \\end{bmatrix}\n",
       "$$"
      ],
      "text/plain": [
       "<IPython.core.display.Latex object>"
      ]
     },
     "execution_count": 40,
     "metadata": {},
     "output_type": "execute_result"
    }
   ],
   "source": [
    "from qiskit.quantum_info import Operator\n",
    "op = Operator(np.array([[1, 0, 0, 0], [0, 0, 0, 1], [0, 0, 1, 0], [0, 1, 0, 0]]))\n",
    "final_state = bell_state.evolve(op)\n",
    "array_to_latex(final_state)"
   ]
  },
  {
   "cell_type": "markdown",
   "id": "d0f6c2e1-31da-45e6-9f46-94226be11549",
   "metadata": {},
   "source": [
    "### Exercise 4 - find the matrix representation of 3 qubit state construsted from 2-qubit Bell's state and 3rd qubit with X gate"
   ]
  },
  {
   "cell_type": "code",
   "execution_count": 1,
   "id": "69090dac-be79-46ca-9f5c-0dd959174d6a",
   "metadata": {},
   "outputs": [],
   "source": [
    "from qiskit import *\n",
    "from qiskit.providers.basic_provider import BasicSimulator\n",
    "from qiskit.visualization import plot_histogram\n",
    "from qiskit import QuantumCircuit"
   ]
  },
  {
   "cell_type": "code",
   "execution_count": 66,
   "id": "bc83cd86-db3e-4802-a8f3-26c04fadb366",
   "metadata": {},
   "outputs": [
    {
     "data": {
      "text/latex": [
       "$$\n",
       "\n",
       "\\begin{bmatrix}\n",
       "0 & 0 & 0 & 0 & \\frac{\\sqrt{2}}{2} & \\frac{\\sqrt{2}}{2} & 0 & 0  \\\\\n",
       " 0 & 0 & 0 & 0 & 0 & 0 & \\frac{\\sqrt{2}}{2} & - \\frac{\\sqrt{2}}{2}  \\\\\n",
       " 0 & 0 & 0 & 0 & 0 & 0 & \\frac{\\sqrt{2}}{2} & \\frac{\\sqrt{2}}{2}  \\\\\n",
       " 0 & 0 & 0 & 0 & \\frac{\\sqrt{2}}{2} & - \\frac{\\sqrt{2}}{2} & 0 & 0  \\\\\n",
       " \\frac{\\sqrt{2}}{2} & \\frac{\\sqrt{2}}{2} & 0 & 0 & 0 & 0 & 0 & 0  \\\\\n",
       " 0 & 0 & \\frac{\\sqrt{2}}{2} & - \\frac{\\sqrt{2}}{2} & 0 & 0 & 0 & 0  \\\\\n",
       " 0 & 0 & \\frac{\\sqrt{2}}{2} & \\frac{\\sqrt{2}}{2} & 0 & 0 & 0 & 0  \\\\\n",
       " \\frac{\\sqrt{2}}{2} & - \\frac{\\sqrt{2}}{2} & 0 & 0 & 0 & 0 & 0 & 0  \\\\\n",
       " \\end{bmatrix}\n",
       "$$"
      ],
      "text/plain": [
       "<IPython.core.display.Latex object>"
      ]
     },
     "execution_count": 66,
     "metadata": {},
     "output_type": "execute_result"
    }
   ],
   "source": [
    "qc2 = QuantumCircuit(3,3)\n",
    "qc2.h(0)\n",
    "qc2.cx(0, 1)\n",
    "qc2.x(2)\n",
    "\n",
    "op2 = Operator.from_circuit(qc2)\n",
    "array_to_latex(op2)"
   ]
  },
  {
   "cell_type": "markdown",
   "id": "4c5b8b31-3446-4411-9a39-7d483a64dc87",
   "metadata": {},
   "source": [
    "### Exercise 5: Using Estimator primitive, calculate expectation value of the operator from Exercise 4 in the 3-qubit GHZ state"
   ]
  },
  {
   "cell_type": "markdown",
   "id": "e8e5116b-28b6-4acf-8969-6e7687ab08dc",
   "metadata": {},
   "source": [
    "First, let's check if the observable  is hermitian. Only for such observables Estimator primitive can calculate expectation values.\\\n",
    "We can for example calculate eigenvalues to check if they are real:"
   ]
  },
  {
   "cell_type": "code",
   "execution_count": 90,
   "id": "85dc20ef-303b-436b-ba72-4f4dad7ac5a5",
   "metadata": {},
   "outputs": [
    {
     "data": {
      "text/latex": [
       "$$\n",
       "\n",
       "\\begin{bmatrix}\n",
       "\\frac{\\sqrt{2}}{2} + \\frac{\\sqrt{2} i}{2} & 1 & \\frac{\\sqrt{2}}{2} - \\frac{\\sqrt{2} i}{2} & - \\frac{\\sqrt{2}}{2} + \\frac{\\sqrt{2} i}{2} & - \\frac{\\sqrt{2}}{2} - \\frac{\\sqrt{2} i}{2} & -1 & 1 & -1  \\\\\n",
       " \\end{bmatrix}\n",
       "$$"
      ],
      "text/plain": [
       "<IPython.core.display.Latex object>"
      ]
     },
     "execution_count": 90,
     "metadata": {},
     "output_type": "execute_result"
    }
   ],
   "source": [
    "from numpy import linalg as la\n",
    "array_to_latex(la.eigvals(op2))"
   ]
  },
  {
   "cell_type": "markdown",
   "id": "b6174c30-254e-495a-9ceb-4bdbc834ab2f",
   "metadata": {},
   "source": [
    "...or we can check this directly, for example in such way:"
   ]
  },
  {
   "cell_type": "code",
   "execution_count": 94,
   "id": "6a66cc02-8926-40d5-b535-4a4095052807",
   "metadata": {},
   "outputs": [
    {
     "data": {
      "text/plain": [
       "False"
      ]
     },
     "execution_count": 94,
     "metadata": {},
     "output_type": "execute_result"
    }
   ],
   "source": [
    "from scipy.linalg import ishermitian\n",
    "\n",
    "ishermitian(op2.data)"
   ]
  },
  {
   "cell_type": "markdown",
   "id": "0dd1024c-6f60-4114-aca4-4fbfe7c73e5b",
   "metadata": {},
   "source": [
    "Let's check how does the matrix look like in Pauli form:"
   ]
  },
  {
   "cell_type": "code",
   "execution_count": 96,
   "id": "49f714a2-e0a2-4f54-8a2e-ff52fcbf2439",
   "metadata": {},
   "outputs": [
    {
     "name": "stdout",
     "output_type": "stream",
     "text": [
      "SparsePauliOp(['XII', 'XIX', 'XIY', 'XIZ', 'XXI', 'XXX', 'XXY', 'XXZ'],\n",
      "              coeffs=[ 0.35355339+0.j        ,  0.35355339+0.j        ,  0.        +0.35355339j,\n",
      "  0.35355339+0.j        , -0.35355339+0.j        ,  0.35355339+0.j        ,\n",
      " -0.        -0.35355339j,  0.35355339+0.j        ])\n"
     ]
    }
   ],
   "source": [
    "observable = SparsePauliOp.from_operator(op2)\n",
    "print(observable)"
   ]
  },
  {
   "cell_type": "markdown",
   "id": "3b810a8d-8c56-4479-9d36-baa422d0e38a",
   "metadata": {},
   "source": [
    "We see that not all coefficients are real - such observables cannot be used with Estimator (!!!)\\\n",
    "Let's remove the imaginary coefficients to get similar, although different observable - this is all we can do here :)"
   ]
  },
  {
   "cell_type": "code",
   "execution_count": 109,
   "id": "b4ddb6ae-82d9-4435-80f9-19ca51f68382",
   "metadata": {},
   "outputs": [
    {
     "data": {
      "text/latex": [
       "$$\n",
       "\n",
       "\\begin{bmatrix}\n",
       "0 & 0 & 0 & 0 & \\frac{\\sqrt{2}}{2} & \\frac{\\sqrt{2}}{4} & 0 & \\frac{\\sqrt{2}}{4}  \\\\\n",
       " 0 & 0 & 0 & 0 & \\frac{\\sqrt{2}}{4} & 0 & \\frac{\\sqrt{2}}{4} & - \\frac{\\sqrt{2}}{2}  \\\\\n",
       " 0 & 0 & 0 & 0 & 0 & \\frac{\\sqrt{2}}{4} & \\frac{\\sqrt{2}}{2} & \\frac{\\sqrt{2}}{4}  \\\\\n",
       " 0 & 0 & 0 & 0 & \\frac{\\sqrt{2}}{4} & - \\frac{\\sqrt{2}}{2} & \\frac{\\sqrt{2}}{4} & 0  \\\\\n",
       " \\frac{\\sqrt{2}}{2} & \\frac{\\sqrt{2}}{4} & 0 & \\frac{\\sqrt{2}}{4} & 0 & 0 & 0 & 0  \\\\\n",
       " \\frac{\\sqrt{2}}{4} & 0 & \\frac{\\sqrt{2}}{4} & - \\frac{\\sqrt{2}}{2} & 0 & 0 & 0 & 0  \\\\\n",
       " 0 & \\frac{\\sqrt{2}}{4} & \\frac{\\sqrt{2}}{2} & \\frac{\\sqrt{2}}{4} & 0 & 0 & 0 & 0  \\\\\n",
       " \\frac{\\sqrt{2}}{4} & - \\frac{\\sqrt{2}}{2} & \\frac{\\sqrt{2}}{4} & 0 & 0 & 0 & 0 & 0  \\\\\n",
       " \\end{bmatrix}\n",
       "$$"
      ],
      "text/plain": [
       "<IPython.core.display.Latex object>"
      ]
     },
     "execution_count": 109,
     "metadata": {},
     "output_type": "execute_result"
    }
   ],
   "source": [
    "observable_modified = SparsePauliOp(['XII', 'XIX', 'XIY', 'XIZ', 'XXI', 'XXX', 'XXY', 'XXZ'],\n",
    "    coeffs=[0.35355339,  0.35355339,  0, 0.35355339, -0.35355339,  0.35355339, 0,  0.35355339])\n",
    "array_to_latex(observable_modified)"
   ]
  },
  {
   "cell_type": "code",
   "execution_count": 163,
   "id": "3cefe9bc-af70-49b1-8071-3dfc9f1eea54",
   "metadata": {},
   "outputs": [
    {
     "name": "stdout",
     "output_type": "stream",
     "text": [
      " > Expectation value: 0.35355338999999997\n",
      " > Metadata: {'target_precision': 0.0, 'circuit_metadata': {}}\n"
     ]
    }
   ],
   "source": [
    "from qiskit.primitives import StatevectorEstimator\n",
    "from qiskit.quantum_info import SparsePauliOp\n",
    "\n",
    "# Let's define our state (as a result of the following circuit):\n",
    "circuit = QuantumCircuit(3)\n",
    "circuit.h(0)\n",
    "circuit.cx(0, 1)\n",
    "circuit.cx(1, 2)\n",
    "\n",
    "observable = observable_modified\n",
    "\n",
    "#Uncomment next line to check what happens with original observable:\n",
    "#observable = SparsePauliOp.from_operator(op2)\n",
    "\n",
    "estimator = StatevectorEstimator()\n",
    "\n",
    "job = estimator.run([(circuit, observable)])\n",
    "result = job.result()\n",
    "\n",
    "print(f\" > Expectation value: {result[0].data.evs}\")\n",
    "print(f\" > Metadata: {result[0].metadata}\")"
   ]
  },
  {
   "cell_type": "markdown",
   "id": "7a324356-f6f3-4798-99d7-5265ac8ea30c",
   "metadata": {},
   "source": [
    "### Exercise 6: Use estimator to calculate expectation value of observable $\\hat{O}=2II-2XX+3YY-3ZZ$ in Bell's state"
   ]
  },
  {
   "cell_type": "code",
   "execution_count": 115,
   "id": "310b2d98-3ae9-43c1-9d2e-7c218f967400",
   "metadata": {},
   "outputs": [
    {
     "name": "stdout",
     "output_type": "stream",
     "text": [
      "Expectation value: -5.999999999999998\n"
     ]
    }
   ],
   "source": [
    "# Let's define our state (as a result of the following circuit):\n",
    "circuit = QuantumCircuit(2)\n",
    "circuit.h(0)\n",
    "circuit.cx(0, 1)\n",
    "\n",
    "observable_o = SparsePauliOp(['II', 'XX', 'YY', 'ZZ'], coeffs=[2,  -2,  3, -3])\n",
    " \n",
    "estimator = StatevectorEstimator()\n",
    "\n",
    "job = estimator.run([(circuit, observable_o)])\n",
    "result = job.result()\n",
    "\n",
    "print(f\"Expectation value: {result[0].data.evs}\")"
   ]
  },
  {
   "cell_type": "markdown",
   "id": "68d5a8ba-abe1-47af-9292-31aa1a505dbc",
   "metadata": {},
   "source": [
    "Without Estimator, this could be done much simpler:"
   ]
  },
  {
   "cell_type": "code",
   "execution_count": 134,
   "id": "43216c50-61bd-4a62-8e44-0d464d257c8c",
   "metadata": {},
   "outputs": [
    {
     "name": "stdout",
     "output_type": "stream",
     "text": [
      "(-5.999999999999998+0j)\n"
     ]
    }
   ],
   "source": [
    "print(Statevector.from_instruction(circuit).expectation_value(observable_o))"
   ]
  },
  {
   "cell_type": "markdown",
   "id": "2964cf76-e3cc-4957-82b6-4f62c93cf3f6",
   "metadata": {},
   "source": [
    "### Exercise 7: Find matrix representation of the $\\hat{O}$ operator"
   ]
  },
  {
   "cell_type": "code",
   "execution_count": 108,
   "id": "9f423f89-32c1-47d1-9e35-1b22a747be94",
   "metadata": {},
   "outputs": [
    {
     "data": {
      "text/latex": [
       "$$\n",
       "\n",
       "\\begin{bmatrix}\n",
       "-1 & 0 & 0 & -5  \\\\\n",
       " 0 & 5 & 1 & 0  \\\\\n",
       " 0 & 1 & 5 & 0  \\\\\n",
       " -5 & 0 & 0 & -1  \\\\\n",
       " \\end{bmatrix}\n",
       "$$"
      ],
      "text/plain": [
       "<IPython.core.display.Latex object>"
      ]
     },
     "execution_count": 108,
     "metadata": {},
     "output_type": "execute_result"
    }
   ],
   "source": [
    "array_to_latex(observable_o)"
   ]
  },
  {
   "cell_type": "code",
   "execution_count": 110,
   "id": "5271b957-edd6-4bae-9e5a-181aca6330ea",
   "metadata": {},
   "outputs": [
    {
     "data": {
      "text/latex": [
       "$$\n",
       "\n",
       "\\begin{bmatrix}\n",
       "4 & -6 & 6 & 4  \\\\\n",
       " \\end{bmatrix}\n",
       "$$"
      ],
      "text/plain": [
       "<IPython.core.display.Latex object>"
      ]
     },
     "execution_count": 110,
     "metadata": {},
     "output_type": "execute_result"
    }
   ],
   "source": [
    "array_to_latex(la.eigvals(observable_o))"
   ]
  }
 ],
 "metadata": {
  "kernelspec": {
   "display_name": "Python 3 (ipykernel)",
   "language": "python",
   "name": "python3"
  },
  "language_info": {
   "codemirror_mode": {
    "name": "ipython",
    "version": 3
   },
   "file_extension": ".py",
   "mimetype": "text/x-python",
   "name": "python",
   "nbconvert_exporter": "python",
   "pygments_lexer": "ipython3",
   "version": "3.11.4"
  }
 },
 "nbformat": 4,
 "nbformat_minor": 5
}
