{
 "cells": [
  {
   "cell_type": "markdown",
   "id": "7063ec82-2af0-4dae-8115-f36201bf5724",
   "metadata": {},
   "source": [
    "# Exercises:"
   ]
  },
  {
   "cell_type": "markdown",
   "id": "4bbc7839-7754-4142-9710-58b9499041f1",
   "metadata": {},
   "source": [
    "### Exercise 1:\n",
    "Implement Deutsch-Jozsa algorithm which checks of the following function is constant or balanced: \\\n",
    "$ 000 \\rightarrow 0$ \\\n",
    "$ 001 \\rightarrow 0$ \\\n",
    "$ 010 \\rightarrow 0$ \\\n",
    "$ 011 \\rightarrow 0$ \\\n",
    "$ 100 \\rightarrow 1$ \\\n",
    "$ 101 \\rightarrow 1$ \\\n",
    "$ 110 \\rightarrow 1$ \\\n",
    "$ 111 \\rightarrow 1$\n"
   ]
  },
  {
   "cell_type": "markdown",
   "id": "d464fe15-b5c9-444d-8e94-870f6b468b34",
   "metadata": {},
   "source": [
    "### Exercise 2:\n",
    "Implement Deutsch-Jozsa algorithm where the number of bits on input to the function we analyze is a parameter and can be modified. Also oracle shopuld be implemented in separate function."
   ]
  },
  {
   "cell_type": "markdown",
   "id": "91d13a3c-4823-4445-8d69-c7adefa68a62",
   "metadata": {},
   "source": [
    "### Exercise 3:\n",
    "Implement Grover algorithm searching for state $\\ket{1001}$ among 16 possible 4-gubit basis states. Run it on simulator."
   ]
  },
  {
   "cell_type": "markdown",
   "id": "ae0afc61-6aee-42fb-91e5-9b907c1db2cb",
   "metadata": {},
   "source": [
    "### Exercise 4:\n",
    "Transpile circuit from Exercise 1 using various optimization methods available in Qiskit.\n",
    "Run the transpilation 100 times in a loop and create barchart with number of 2-qubit gates distribution."
   ]
  }
 ],
 "metadata": {
  "kernelspec": {
   "display_name": "Python 3 (ipykernel)",
   "language": "python",
   "name": "python3"
  },
  "language_info": {
   "codemirror_mode": {
    "name": "ipython",
    "version": 3
   },
   "file_extension": ".py",
   "mimetype": "text/x-python",
   "name": "python",
   "nbconvert_exporter": "python",
   "pygments_lexer": "ipython3",
   "version": "3.11.4"
  }
 },
 "nbformat": 4,
 "nbformat_minor": 5
}
