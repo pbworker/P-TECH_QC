{
 "cells": [
  {
   "cell_type": "code",
   "execution_count": 1,
   "id": "373aca2e-8bcb-4df3-a6b3-897f0ab212b5",
   "metadata": {},
   "outputs": [],
   "source": [
    "import numpy as np\n",
    "from numpy.linalg import eig\n",
    "from qiskit_algorithms.optimizers import SLSQP\n",
    "from qiskit.circuit.library import TwoLocal, EfficientSU2\n",
    "from qiskit.primitives import Estimator\n",
    "from qiskit_algorithms import VQE\n",
    "from qiskit.quantum_info import Operator\n",
    "from qiskit.quantum_info import SparsePauliOp\n",
    "from qiskit_ibm_runtime import QiskitRuntimeService, Session\n",
    "from qiskit_ibm_runtime import EstimatorV2 as Estimator\n",
    "from qiskit.transpiler.preset_passmanagers import generate_preset_pass_manager\n",
    "from scipy.optimize import minimize"
   ]
  },
  {
   "cell_type": "markdown",
   "id": "3221218f-c4cd-4e77-9c8f-099fce8f9a52",
   "metadata": {},
   "source": [
    "Based on the following Qiskit tutorial: https://learning.quantum.ibm.com/tutorial/variational-quantum-eigensolver"
   ]
  },
  {
   "cell_type": "markdown",
   "id": "99a32935-c643-458e-a4c2-f178921508b4",
   "metadata": {},
   "source": [
    "# Let's define the operator:"
   ]
  },
  {
   "cell_type": "code",
   "execution_count": 2,
   "id": "2e7b911c-180b-47e5-82cf-afac1b474a82",
   "metadata": {},
   "outputs": [],
   "source": [
    "hamiltonian = SparsePauliOp.from_list(\n",
    "    [(\"YZ\", 0.3980), (\"ZI\", -0.3980), (\"ZZ\", -0.0113), (\"XX\", 0.1810)]\n",
    ")"
   ]
  },
  {
   "cell_type": "code",
   "execution_count": 3,
   "id": "7e99085b-eb09-414d-82b7-bf968204d3d2",
   "metadata": {},
   "outputs": [
    {
     "name": "stdout",
     "output_type": "stream",
     "text": [
      "[[-0.4093+0.j     0.    +0.j     0.    -0.398j  0.181 +0.j   ]\n",
      " [ 0.    +0.j    -0.3867+0.j     0.181 +0.j     0.    +0.398j]\n",
      " [ 0.    +0.398j  0.181 +0.j     0.4093+0.j     0.    +0.j   ]\n",
      " [ 0.181 +0.j     0.    -0.398j  0.    +0.j     0.3867+0.j   ]]\n"
     ]
    }
   ],
   "source": [
    "H = hamiltonian.to_matrix()\n",
    "print(H)"
   ]
  },
  {
   "cell_type": "code",
   "execution_count": 4,
   "id": "d1279c51-8c8d-44d3-a8b0-318625cc8220",
   "metadata": {},
   "outputs": [
    {
     "data": {
      "text/latex": [
       "$$\n",
       "\n",
       "\\begin{bmatrix}\n",
       "-0.4093 & 0 & - 0.398 i & 0.181  \\\\\n",
       " 0 & - \\frac{2^{\\frac{289}{993}} \\cdot 3^{\\frac{61}{331}} \\cdot 5^{\\frac{203}{993}} \\cdot 7^{\\frac{134}{993}}}{7} & 0.181 & 0.398 i  \\\\\n",
       " 0.398 i & 0.181 & 0.4093 & 0  \\\\\n",
       " 0.181 & - 0.398 i & 0 & \\frac{2^{\\frac{289}{993}} \\cdot 3^{\\frac{61}{331}} \\cdot 5^{\\frac{203}{993}} \\cdot 7^{\\frac{134}{993}}}{7}  \\\\\n",
       " \\end{bmatrix}\n",
       "$$"
      ],
      "text/plain": [
       "<IPython.core.display.Latex object>"
      ]
     },
     "execution_count": 4,
     "metadata": {},
     "output_type": "execute_result"
    }
   ],
   "source": [
    "hamiltonian_operator = Operator(hamiltonian)\n",
    "hamiltonian_operator.draw(output='latex')"
   ]
  },
  {
   "cell_type": "markdown",
   "id": "7cd7def1-4745-49c6-98f7-b4572c824663",
   "metadata": {},
   "source": [
    "# Let's find eigenvalues using classical numpy linear algebra package:"
   ]
  },
  {
   "cell_type": "code",
   "execution_count": 5,
   "id": "6ab1500c-0144-4648-867c-9366cb9b571d",
   "metadata": {},
   "outputs": [
    {
     "name": "stdout",
     "output_type": "stream",
     "text": [
      "Eigenvalues: [-0.70293039+6.24707871e-18j -0.45308083-7.57079461e-17j\n",
      "  0.70293039-6.06797210e-18j  0.45308083+3.47628378e-17j]\n",
      "Eigenvectors:\n",
      " [[ 6.49638715e-01+0.00000000e+00j -1.13885050e-18+6.65864932e-01j\n",
      "   7.01111754e-18-3.30320834e-01j -1.59629506e-01-4.32331142e-17j]\n",
      " [-2.91446790e-16+6.01307531e-01j  7.03606721e-01+0.00000000e+00j\n",
      "   3.27546851e-01-2.90500924e-17j -2.28717515e-17+1.89947086e-01j]\n",
      " [-3.02255009e-17-3.30320834e-01j  1.59629506e-01+8.31587415e-17j\n",
      "   6.49638715e-01+0.00000000e+00j  1.18760305e-16-6.65864932e-01j]\n",
      " [-3.27546851e-01-1.37383111e-16j -1.35473761e-17+1.89947086e-01j\n",
      "  -1.69472202e-17-6.01307531e-01j  7.03606721e-01+0.00000000e+00j]]\n"
     ]
    }
   ],
   "source": [
    "e,v=eig(H)\n",
    "print(\"Eigenvalues:\", e)\n",
    "print(\"Eigenvectors:\\n\", v)"
   ]
  },
  {
   "cell_type": "markdown",
   "id": "177bbd32-9a8e-47bd-ae86-622946a6d656",
   "metadata": {},
   "source": [
    "# ...or even find smallest eigenvalue with Qiskit wrapper over classical numpy eigensolver:"
   ]
  },
  {
   "cell_type": "code",
   "execution_count": 6,
   "id": "a578232e-81a4-4c96-af40-9b6fc3b590ad",
   "metadata": {},
   "outputs": [
    {
     "name": "stdout",
     "output_type": "stream",
     "text": [
      "-0.702930394459531\n"
     ]
    }
   ],
   "source": [
    "from qiskit_algorithms import NumPyMinimumEigensolver\n",
    "\n",
    "numpy_solver = NumPyMinimumEigensolver()\n",
    "result = numpy_solver.compute_minimum_eigenvalue(operator=hamiltonian)\n",
    "minimal_eigenvalue = result.eigenvalue.real\n",
    "print(minimal_eigenvalue)"
   ]
  },
  {
   "cell_type": "markdown",
   "id": "625fc72f-09ab-4f6c-9d73-8bd611586d90",
   "metadata": {},
   "source": [
    "# Now, let's use VQE algorithm"
   ]
  },
  {
   "cell_type": "code",
   "execution_count": 7,
   "id": "8c88de40-1ff3-460e-964a-2f45fe579a5c",
   "metadata": {},
   "outputs": [],
   "source": [
    "ansatz = EfficientSU2(hamiltonian.num_qubits)"
   ]
  },
  {
   "cell_type": "code",
   "execution_count": 8,
   "id": "6c401f86-b126-4d4f-9d0a-99a961036c28",
   "metadata": {
    "scrolled": true
   },
   "outputs": [
    {
     "data": {
      "image/png": "[encoded data removed]",
      "text/plain": [
       "<Figure size 1039.79x200.667 with 1 Axes>"
      ]
     },
     "execution_count": 8,
     "metadata": {},
     "output_type": "execute_result"
    }
   ],
   "source": [
    "ansatz.decompose().draw(\"mpl\")"
   ]
  },
  {
   "cell_type": "code",
   "execution_count": 9,
   "id": "e9024947-3174-4201-a2bc-3ad7f0072722",
   "metadata": {},
   "outputs": [
    {
     "name": "stdout",
     "output_type": "stream",
     "text": [
      "16\n"
     ]
    }
   ],
   "source": [
    "num_params = ansatz.num_parameters\n",
    "print(num_params)"
   ]
  },
  {
   "cell_type": "code",
   "execution_count": 10,
   "id": "129d76f4-d3be-4e16-8f11-38ecd5e5c483",
   "metadata": {},
   "outputs": [
    {
     "name": "stdout",
     "output_type": "stream",
     "text": [
      "2\n"
     ]
    }
   ],
   "source": [
    "print(hamiltonian.num_qubits)"
   ]
  },
  {
   "cell_type": "code",
   "execution_count": 11,
   "id": "8abf6a4f-0758-4cfd-a961-216e30ec85cf",
   "metadata": {},
   "outputs": [],
   "source": [
    "def cost_func(params, ansatz, hamiltonian, estimator):\n",
    "    pub = (ansatz, [hamiltonian], [params])\n",
    "    result = estimator.run(pubs=[pub]).result()\n",
    "    energy = result[0].data.evs[0]\n",
    "\n",
    "    costs.append(energy)\n",
    "    print(f\"Iteration: {len(costs)+1}, cost: {energy}\")\n",
    "\n",
    "    return energy"
   ]
  },
  {
   "cell_type": "code",
   "execution_count": 12,
   "id": "f545a1f6-66de-4f57-b0d2-5ea74654d4ba",
   "metadata": {},
   "outputs": [],
   "source": [
    "costs = []"
   ]
  },
  {
   "cell_type": "code",
   "execution_count": 13,
   "id": "691528a2-e6c1-46cd-b6b1-2b4c2dc64df4",
   "metadata": {},
   "outputs": [],
   "source": [
    "from qiskit_ibm_runtime.fake_provider import FakeManilaV2\n",
    "\n",
    "fake_manila = FakeManilaV2()"
   ]
  },
  {
   "cell_type": "code",
   "execution_count": 14,
   "id": "b38d9414-d4d1-4249-97a8-dfb60b1ea2d6",
   "metadata": {},
   "outputs": [
    {
     "name": "stdout",
     "output_type": "stream",
     "text": [
      "[3.19379151 5.05140959 1.27434452 0.95904696 1.37602971 3.27145817\n",
      " 4.8226121  5.69649556 4.08005573 2.68536176 0.67155553 2.14665029\n",
      " 0.74712925 4.87211545 1.42817315 0.54428764]\n"
     ]
    }
   ],
   "source": [
    "pm = generate_preset_pass_manager(backend=fake_manila, optimization_level=1)\n",
    "\n",
    "ansatz_isa = pm.run(ansatz)\n",
    "hamiltonian_isa = hamiltonian.apply_layout(layout=ansatz_isa.layout)\n",
    "\n",
    "x0 = 2 * np.pi * np.random.random(num_params)\n",
    "print(x0)"
   ]
  },
  {
   "cell_type": "code",
   "execution_count": 15,
   "id": "efaef4dc-e9f7-4cc2-9445-a1fed7debea4",
   "metadata": {},
   "outputs": [
    {
     "data": {
      "image/png": "[encoded data removed]",
      "text/plain": [
       "<Figure size 2095.61x200.667 with 1 Axes>"
      ]
     },
     "execution_count": 15,
     "metadata": {},
     "output_type": "execute_result"
    }
   ],
   "source": [
    "ansatz_isa.draw(output=\"mpl\", idle_wires=False, style=\"iqp\")"
   ]
  },
  {
   "cell_type": "code",
   "execution_count": 16,
   "id": "37ffdd58-9aa5-45a7-b451-ffa0f0b54d65",
   "metadata": {},
   "outputs": [
    {
     "name": "stdout",
     "output_type": "stream",
     "text": [
      "Iteration: 2, cost: -0.14079256\n",
      "Iteration: 3, cost: -0.19082302\n",
      "Iteration: 4, cost: 0.016444819999999992\n",
      "Iteration: 5, cost: -0.37665528000000004\n",
      "Iteration: 6, cost: -0.24778900000000006\n",
      "Iteration: 7, cost: -0.25843938000000005\n",
      "Iteration: 8, cost: -0.08429162000000001\n",
      "Iteration: 9, cost: -0.40833202\n",
      "Iteration: 10, cost: -0.16886566000000003\n",
      "Iteration: 11, cost: -0.35680737999999995\n",
      "Iteration: 12, cost: -0.33583106\n",
      "Iteration: 13, cost: -0.36236462\n",
      "Iteration: 14, cost: -0.43458204000000006\n",
      "Iteration: 15, cost: -0.47252700000000003\n",
      "Iteration: 16, cost: -0.29501334\n",
      "Iteration: 17, cost: -0.41939418\n",
      "Iteration: 18, cost: -0.34355098\n",
      "Iteration: 19, cost: -0.21257766000000003\n",
      "Iteration: 20, cost: -0.4254976\n",
      "Iteration: 21, cost: -0.24444475999999998\n",
      "Iteration: 22, cost: -0.43750484000000006\n",
      "Iteration: 23, cost: -0.48545366\n",
      "Iteration: 24, cost: -0.44389622\n",
      "Iteration: 25, cost: -0.47524940000000004\n",
      "Iteration: 26, cost: -0.44446942\n",
      "Iteration: 27, cost: -0.48864941999999995\n",
      "Iteration: 28, cost: -0.41027426\n",
      "Iteration: 29, cost: -0.49162176\n",
      "Iteration: 30, cost: -0.43382374\n",
      "Iteration: 31, cost: -0.45278229999999997\n",
      "Iteration: 32, cost: -0.44138894\n",
      "Iteration: 33, cost: -0.47790444000000004\n",
      "Iteration: 34, cost: -0.41126304\n",
      "Iteration: 35, cost: -0.51352954\n",
      "Iteration: 36, cost: -0.51501588\n",
      "Iteration: 37, cost: -0.51199472\n",
      "Iteration: 38, cost: -0.47652116000000005\n",
      "Iteration: 39, cost: -0.50328396\n",
      "Iteration: 40, cost: -0.4874644799999999\n",
      "Iteration: 41, cost: -0.5214099600000001\n",
      "Iteration: 42, cost: -0.5243700200000001\n",
      "Iteration: 43, cost: -0.52248082\n",
      "Iteration: 44, cost: -0.50271782\n",
      "Iteration: 45, cost: -0.54671256\n",
      "Iteration: 46, cost: -0.54646028\n",
      "Iteration: 47, cost: -0.5561898999999999\n",
      "Iteration: 48, cost: -0.5087838600000001\n",
      "Iteration: 49, cost: -0.54197694\n",
      "Iteration: 50, cost: -0.5492642600000001\n",
      "Iteration: 51, cost: -0.55830144\n",
      "Iteration: 52, cost: -0.54509884\n",
      "Iteration: 53, cost: -0.55021182\n",
      "Iteration: 54, cost: -0.5687110200000001\n",
      "Iteration: 55, cost: -0.55957146\n",
      "Iteration: 56, cost: -0.5698297999999999\n",
      "Iteration: 57, cost: -0.57350356\n",
      "Iteration: 58, cost: -0.55531006\n",
      "Iteration: 59, cost: -0.5680165800000001\n",
      "Iteration: 60, cost: -0.5831822\n",
      "Iteration: 61, cost: -0.5819708400000001\n",
      "Iteration: 62, cost: -0.5680885600000001\n",
      "Iteration: 63, cost: -0.56898144\n",
      "Iteration: 64, cost: -0.57697132\n",
      "Iteration: 65, cost: -0.5743755\n",
      "Iteration: 66, cost: -0.5770818600000001\n",
      "Iteration: 67, cost: -0.5476840599999999\n",
      "Iteration: 68, cost: -0.5822028800000001\n",
      "Iteration: 69, cost: -0.59096876\n",
      "Iteration: 70, cost: -0.58468338\n",
      "Iteration: 71, cost: -0.58050766\n",
      "Iteration: 72, cost: -0.57598168\n",
      "Iteration: 73, cost: -0.58285268\n",
      "Iteration: 74, cost: -0.59734614\n",
      "Iteration: 75, cost: -0.5935567\n",
      "Iteration: 76, cost: -0.5932792200000001\n",
      "Iteration: 77, cost: -0.58295758\n",
      "Iteration: 78, cost: -0.58366098\n",
      "Iteration: 79, cost: -0.5889531600000001\n",
      "Iteration: 80, cost: -0.59538998\n",
      "Iteration: 81, cost: -0.59153766\n",
      "Iteration: 82, cost: -0.5930949000000001\n",
      "Iteration: 83, cost: -0.59063574\n",
      "Iteration: 84, cost: -0.58802438\n",
      "Iteration: 85, cost: -0.5921409200000001\n",
      "Iteration: 86, cost: -0.5831639200000001\n",
      "Iteration: 87, cost: -0.5848144399999999\n",
      "Iteration: 88, cost: -0.59936656\n",
      "Iteration: 89, cost: -0.59489196\n",
      "Iteration: 90, cost: -0.5967285600000001\n",
      "Iteration: 91, cost: -0.59481156\n",
      "Iteration: 92, cost: -0.5925236\n",
      "Iteration: 93, cost: -0.60232514\n",
      "Iteration: 94, cost: -0.58993292\n",
      "Iteration: 95, cost: -0.59509428\n",
      "Iteration: 96, cost: -0.59096318\n",
      "Iteration: 97, cost: -0.59187618\n",
      "Iteration: 98, cost: -0.59939368\n",
      "Iteration: 99, cost: -0.5978338000000001\n",
      "Iteration: 100, cost: -0.6020772400000001\n",
      "Iteration: 101, cost: -0.59313518\n",
      "Iteration: 102, cost: -0.5965417000000001\n",
      "Iteration: 103, cost: -0.59543782\n",
      "Iteration: 104, cost: -0.6017013400000001\n",
      "Iteration: 105, cost: -0.59253404\n",
      "Iteration: 106, cost: -0.59301764\n",
      "Iteration: 107, cost: -0.5925982599999999\n",
      "Iteration: 108, cost: -0.59728182\n",
      "Iteration: 109, cost: -0.5954825\n",
      "Iteration: 110, cost: -0.5881926000000001\n",
      "Iteration: 111, cost: -0.6018542800000001\n",
      "Iteration: 112, cost: -0.60472998\n",
      "Iteration: 113, cost: -0.59101616\n",
      "Iteration: 114, cost: -0.58849306\n",
      "Iteration: 115, cost: -0.59715798\n",
      "Iteration: 116, cost: -0.5952192\n",
      "Iteration: 117, cost: -0.58739122\n",
      "Iteration: 118, cost: -0.59753796\n",
      "Iteration: 119, cost: -0.59664278\n",
      "Iteration: 120, cost: -0.59680276\n",
      "Iteration: 121, cost: -0.5917122000000001\n",
      "Iteration: 122, cost: -0.5954334600000001\n",
      "Iteration: 123, cost: -0.59287756\n",
      "Iteration: 124, cost: -0.59489404\n",
      "Iteration: 125, cost: -0.59794462\n",
      "Iteration: 126, cost: -0.5988632800000001\n",
      "Iteration: 127, cost: -0.5940193\n",
      "Iteration: 128, cost: -0.5976690800000001\n",
      "Iteration: 129, cost: -0.5963965600000001\n",
      "Iteration: 130, cost: -0.59259674\n",
      "Iteration: 131, cost: -0.5952986\n",
      "Iteration: 132, cost: -0.5981288\n",
      "Iteration: 133, cost: -0.5918575400000001\n",
      "Iteration: 134, cost: -0.5962682\n",
      "Iteration: 135, cost: -0.5926475800000001\n",
      "Iteration: 136, cost: -0.58664432\n",
      "Iteration: 137, cost: -0.5909384400000001\n",
      "Iteration: 138, cost: -0.5939316600000001\n",
      "Iteration: 139, cost: -0.60508758\n",
      "Iteration: 140, cost: -0.59142064\n",
      "Iteration: 141, cost: -0.5977216799999999\n",
      "Iteration: 142, cost: -0.59388158\n",
      "Iteration: 143, cost: -0.5890740799999999\n",
      "Iteration: 144, cost: -0.5960742200000001\n",
      "Iteration: 145, cost: -0.58774758\n",
      "Iteration: 146, cost: -0.5853653400000001\n",
      "Iteration: 147, cost: -0.6011107400000001\n",
      "Iteration: 148, cost: -0.5950067800000001\n",
      "Iteration: 149, cost: -0.5847990200000001\n",
      "Iteration: 150, cost: -0.5912676\n",
      "Iteration: 151, cost: -0.58693626\n",
      "Iteration: 152, cost: -0.59878464\n",
      "Iteration: 153, cost: -0.60157834\n",
      "Iteration: 154, cost: -0.5994408600000001\n",
      "Iteration: 155, cost: -0.59542924\n",
      "Iteration: 156, cost: -0.59432156\n",
      "Iteration: 157, cost: -0.5939686200000001\n",
      "Iteration: 158, cost: -0.60222782\n",
      "Iteration: 159, cost: -0.59326004\n",
      "Iteration: 160, cost: -0.59370838\n",
      "Iteration: 161, cost: -0.6025982599999999\n",
      "Iteration: 162, cost: -0.58435236\n",
      "Iteration: 163, cost: -0.5961223\n",
      "Iteration: 164, cost: -0.5935463\n",
      "Iteration: 165, cost: -0.59622074\n",
      "Iteration: 166, cost: -0.59761788\n",
      "Iteration: 167, cost: -0.60097758\n",
      "Iteration: 168, cost: -0.6008323999999999\n",
      "Iteration: 169, cost: -0.59835578\n",
      "Iteration: 170, cost: -0.59451366\n",
      "Iteration: 171, cost: -0.58352872\n",
      "Iteration: 172, cost: -0.58967258\n",
      "Iteration: 173, cost: -0.58868956\n",
      "Iteration: 174, cost: -0.5948564400000002\n",
      "Iteration: 175, cost: -0.59770728\n",
      "Iteration: 176, cost: -0.6004073\n",
      "Iteration: 177, cost: -0.5917592400000001\n",
      "Iteration: 178, cost: -0.5863010200000001\n",
      "Iteration: 179, cost: -0.5961931200000001\n",
      "Iteration: 180, cost: -0.59470546\n",
      "Iteration: 181, cost: -0.5956184\n",
      "Iteration: 182, cost: -0.59222198\n",
      "Iteration: 183, cost: -0.58879244\n",
      "Iteration: 184, cost: -0.5941744800000001\n"
     ]
    }
   ],
   "source": [
    "with Session(backend=fake_manila) as session:\n",
    "    estimator = Estimator(mode=session)\n",
    "    estimator.options.default_shots = 10000\n",
    "\n",
    "    res = minimize(\n",
    "        cost_func,\n",
    "        x0,\n",
    "        args=(ansatz_isa, hamiltonian_isa, estimator),\n",
    "        method=\"cobyla\",\n",
    "    )"
   ]
  },
  {
   "cell_type": "code",
   "execution_count": 17,
   "id": "fe80a964-9e83-4cb5-b4a9-e0ca9f2ffdc0",
   "metadata": {},
   "outputs": [
    {
     "data": {
      "text/plain": [
       "[<matplotlib.lines.Line2D at 0x2cef8dc5e90>]"
      ]
     },
     "execution_count": 17,
     "metadata": {},
     "output_type": "execute_result"
    },
    {
     "data": {
      "image/png": "[encoded data removed]",
      "text/plain": [
       "<Figure size 640x480 with 1 Axes>"
      ]
     },
     "metadata": {},
     "output_type": "display_data"
    }
   ],
   "source": [
    "import matplotlib.pyplot as plt\n",
    "\n",
    "plt.plot(costs)"
   ]
  },
  {
   "cell_type": "markdown",
   "id": "a73101ff-df61-4ea7-9c91-a0de374c446b",
   "metadata": {},
   "source": [
    "# Exercise 1\n",
    "Rework the above VQE example to return correct value of smallest eigenvalue (-0.59 found instead of -0.7)"
   ]
  },
  {
   "cell_type": "code",
   "execution_count": 157,
   "id": "f2c96372-8e82-4867-b200-4cd9abc97225",
   "metadata": {},
   "outputs": [],
   "source": [
    "new_ansatz = TwoLocal(num_qubits, \"ry\", \"cz\")"
   ]
  },
  {
   "cell_type": "markdown",
   "id": "9a492b49-546b-43b7-a959-35f7b3102061",
   "metadata": {},
   "source": [
    "# Exercise 2:\n",
    "Using VQE algorithm calculate ground state energy of hydrogen molecule described by the below Hamiltonian.\\\n",
    "Use the first ansatz we used above - not the one from Exercise 1.\\\n",
    "Check in the internet if the result is correct and deduce in what units it is expressed."
   ]
  },
  {
   "cell_type": "code",
   "execution_count": 153,
   "id": "23bc399a-e80d-4c12-a7c2-ae885245b41c",
   "metadata": {},
   "outputs": [],
   "source": [
    "H2_op = SparsePauliOp.from_list(\n",
    "    [\n",
    "        (\"II\", -1.052373245772859),\n",
    "        (\"IZ\", 0.39793742484318045),\n",
    "        (\"ZI\", -0.39793742484318045),\n",
    "        (\"ZZ\", -0.01128010425623538),\n",
    "        (\"XX\", 0.18093119978423156),\n",
    "    ]\n",
    ")"
   ]
  }
 ],
 "metadata": {
  "kernelspec": {
   "display_name": "Python 3 (ipykernel)",
   "language": "python",
   "name": "python3"
  },
  "language_info": {
   "codemirror_mode": {
    "name": "ipython",
    "version": 3
   },
   "file_extension": ".py",
   "mimetype": "text/x-python",
   "name": "python",
   "nbconvert_exporter": "python",
   "pygments_lexer": "ipython3",
   "version": "3.11.4"
  }
 },
 "nbformat": 4,
 "nbformat_minor": 5
}
