{
 "cells": [
  {
   "cell_type": "markdown",
   "id": "67508ca6-8055-4407-8ef8-cc1d7d86a1a6",
   "metadata": {},
   "source": [
    "### Homework:\n",
    "\n",
    "1. Calculate expectation value of the following Hamiltonian in any state:\n",
    "`hamiltonian = SparsePauliOp.from_list([(\"YZ\", 0.3980), (\"ZI\", -0.3980), (\"ZZ\", -0.0113), (\"XX\", 0.1810)])` using real quantum computer\n",
    "\n",
    "1. Run Bell's state and $H^2$ circuits (so set of 2 circuits) on:\n",
    "  - StatevectorSampler using single job - locally\n",
    "  - Sampler primitive using single job - on real backend\n",
    "\n",
    "1. Read:\n",
    "  - https://docs.quantum.ibm.com/guides/get-started-with-primitives\n",
    "  - https://docs.quantum.ibm.com/guides/primitive-input-output\n",
    "  - https://docs.quantum.ibm.com/guides/primitives-examples\n",
    "  - https://docs.quantum.ibm.com/guides/runtime-options-overview\n",
    "  - https://docs.quantum.ibm.com/guides/specify-runtime-options\n",
    "  - https://docs.quantum.ibm.com/guides/configure-error-mitigation\n",
    "\n",
    "1. Calculate expectation value of any operator for parametrized circuit and draw chart showing them for multiple values of the parameter.\n"
   ]
  }
 ],
 "metadata": {
  "kernelspec": {
   "display_name": "Python 3 (ipykernel)",
   "language": "python",
   "name": "python3"
  },
  "language_info": {
   "codemirror_mode": {
    "name": "ipython",
    "version": 3
   },
   "file_extension": ".py",
   "mimetype": "text/x-python",
   "name": "python",
   "nbconvert_exporter": "python",
   "pygments_lexer": "ipython3",
   "version": "3.11.4"
  }
 },
 "nbformat": 4,
 "nbformat_minor": 5
}
