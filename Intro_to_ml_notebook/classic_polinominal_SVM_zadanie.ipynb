{
 "cells": [
  {
   "cell_type": "markdown",
   "metadata": {},
   "source": [
    "# Wprowadzenie\n",
    "\n",
    "W tym ćwiczeniu będziemy trenować algorytm SVM (Support Vector Machine) z jądrem **wielomianowym (poly kernel)**. Algorytm ten pozwala na lepsze dopasowanie bardziej złożonych danych, dzięki czemu możliwe jest klasyfikowanie danych, które **nie są liniowo separowalne**.\n",
    "\n",
    "Dokumntacja SVM: [https://scikit-learn.org/stable/modules/svm.html#svm](https://scikit-learn.org/stable/modules/svm.html#svm)\n",
    "\n",
    "Waszym zadaniem będzie:\n",
    "\n",
    "Przećwiczenie **różnych stopni** wielomianów (degree) dla jądra wielomianowego.\n",
    "Zrozumienie roli parametru `coef0`, który ma znaczenie tylko w jądrze `wielomianowym` oraz `sigmoidowym`.\n",
    "Wytrenowanie modelu i wizualizacja granic decyzyjnych.\n"
   ]
  },
  {
   "cell_type": "code",
   "execution_count": 1,
   "metadata": {},
   "outputs": [],
   "source": [
    "import numpy as np\n",
    "import pandas as pd\n",
    "import matplotlib.pyplot as plt\n",
    "from sklearn import metrics\n",
    "\n",
    "from mlxtend.plotting import plot_decision_regions\n",
    "from sklearn.svm import SVC"
   ]
  },
  {
   "cell_type": "markdown",
   "metadata": {},
   "source": [
    "# Polinomina SVM Classification\n",
    "\n",
    "## Zadanie 1: Wstępne wizualizowanie danych\n",
    "Najpierw wczytamy dane i wyświetlimy je na wykresie. Dane te przedstawiają dwie klasy o nieregularnych kształtach (kształt półksiężyca)."
   ]
  },
  {
   "cell_type": "code",
   "execution_count": 2,
   "metadata": {},
   "outputs": [],
   "source": []
  },
  {
   "cell_type": "code",
   "execution_count": 3,
   "metadata": {},
   "outputs": [],
   "source": []
  },
  {
   "cell_type": "markdown",
   "metadata": {},
   "source": [
    "## Zadanie 2: Trenowanie modelu SVM z jądrem wielomianowym\n",
    "Korzystając z algorytmu SVC z biblioteki sklearn, przetrenujcie model SVM z jądrem wielomianowym (**kernel=\"poly\"**). Eksperymentujcie z różnymi wartościami stopnia wielomianu degree oraz parametru `coef0`.\n",
    "\n",
    "Zadanie: Wytrenujcie model SVM z jądrem wielomianowym dla poniższych wartości parametrów i wykonajcie wykres granic decyzyjnych:\n",
    "\n",
    "`degree=1, coef0=0, C=1`\n",
    "\n",
    "`degree=2, coef0=0, C=1`\n",
    "\n",
    "`degree=3, coef0=0, C=1`\n",
    "\n",
    "`degree=3, coef0=1, C=1`\n",
    "\n",
    "Pytanie: Jaki wpływ ma zwiększanie stopnia wielomianu na kształt granic decyzyjnych?\n",
    "\n",
    "**Podpowiedź: Użyjcie funkcji SVC z parametrem kernel=\"poly\" oraz funkcji do wizualizacji granic decyzyjnych.**"
   ]
  },
  {
   "cell_type": "code",
   "execution_count": null,
   "metadata": {},
   "outputs": [],
   "source": [
    "# Trenowanie SVM z jądrem wielomianowym\n",
    "# TODO: uzupełnij kod tak, aby wytrenować model SVM z różnymi wartościami degree i coef0\n",
    "\n",
    "poly_kernel_svm_clf = SVC(kernel=\"poly\", degree=1, coef0=0, C=1)\n",
    "poly_kernel_svm_clf.fit(X, y)\n",
    "\n",
    "# Wizualizacja granic decyzyjnych\n",
    "plot_decision_regions(X, y, poly_kernel_svm_clf)\n",
    "plt.show()\n",
    "\n",
    "# Powtórz dla innych wartości degree i coef0\n"
   ]
  },
  {
   "cell_type": "code",
   "execution_count": 5,
   "metadata": {},
   "outputs": [],
   "source": []
  },
  {
   "cell_type": "code",
   "execution_count": 6,
   "metadata": {},
   "outputs": [],
   "source": []
  },
  {
   "cell_type": "code",
   "execution_count": 7,
   "metadata": {},
   "outputs": [],
   "source": []
  },
  {
   "cell_type": "markdown",
   "metadata": {},
   "source": [
    "## Zadanie 3: Ocena modelu\n",
    "Na końcu podzielimy dane na zestawy treningowe i testowe, a następnie ocenimy, jak dobrze model klasyfikuje nowe dane.\n",
    "\n",
    "Zadanie: Podzielcie dane na zbiór treningowy i testowy, a następnie wytrenujcie model z jądrem wielomianowym ktory najlepiej pasuje do danych. Oceńcie dokładność modelu na zbiorze testowym."
   ]
  },
  {
   "cell_type": "code",
   "execution_count": 9,
   "metadata": {},
   "outputs": [],
   "source": []
  },
  {
   "cell_type": "markdown",
   "metadata": {},
   "source": [
    "# Podsumowanie:\n",
    "W tym zadaniu nauczycie się, jak używać SVM z jądrem wielomianowym.\n",
    "Przeanalizujcie, jak różne parametry wpływają na granice decyzyjne i na wyniki klasyfikacji.\n",
    "Pamiętajcie, że `coef0` odgrywa rolę tylko w przypadku jąder wielomianowych oraz sigmoidowych."
   ]
  }
 ],
 "metadata": {
  "kernelspec": {
   "display_name": "Python 3 (ipykernel)",
   "language": "python",
   "name": "python3"
  },
  "language_info": {
   "codemirror_mode": {
    "name": "ipython",
    "version": 3
   },
   "file_extension": ".py",
   "mimetype": "text/x-python",
   "name": "python",
   "nbconvert_exporter": "python",
   "pygments_lexer": "ipython3",
   "version": "3.11.8"
  }
 },
 "nbformat": 4,
 "nbformat_minor": 4
}
