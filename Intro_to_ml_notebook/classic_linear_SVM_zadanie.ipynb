{
 "cells": [
  {
   "cell_type": "code",
   "execution_count": 2,
   "metadata": {},
   "outputs": [],
   "source": [
    "import numpy as np\n",
    "import pandas as pd\n",
    "import matplotlib.pyplot as plt\n",
    "from sklearn import metrics\n",
    "\n",
    "from mlxtend.plotting import plot_decision_regions"
   ]
  },
  {
   "cell_type": "markdown",
   "metadata": {},
   "source": [
    "# Co to jest SVM (Support Vector Machine)?\n"
   ]
  },
  {
   "cell_type": "markdown",
   "metadata": {},
   "source": [
    "SVM, czyli Maszyna Wektorów Nośnych, to jeden z popularniejszych algorytmów używanych w Machine Learning do zadań klasyfikacji. SVM próbuje znaleźć prostą (np. linię lub płaszczyznę) w przestrzeni danych, która najlepiej rozdziela dwie klasy (czyli różne grupy danych).\n",
    "\n",
    "\n",
    "Parametr C jest bardzo istotny w SVM. Reguluje, jak bardzo model ma się dostosowywać do danych treningowych. Niskie wartości C oznaczają, że model dopuszcza więcej błędów, ale może lepiej uogólniać dane, natomiast wysokie wartości C sprawiają, że model bardziej skupia się na poprawnej klasyfikacji przykładów treningowych, nawet kosztem ogólności.\n",
    "\n",
    "\n",
    "Dokumntacja SVM: [https://scikit-learn.org/stable/modules/svm.html#svm](https://scikit-learn.org/stable/modules/svm.html#svm)"
   ]
  },
  {
   "cell_type": "markdown",
   "metadata": {},
   "source": [
    "# Linear SVM Classification"
   ]
  },
  {
   "cell_type": "markdown",
   "metadata": {},
   "source": [
    "## Generowanie danych\n",
    "W pierwszej części notebooka generujemy dane przy użyciu funkcji make_moons. Dane te tworzą dwie klasy w *kształcie półksiężyców*. Na wykresie poniżej widać te dane – każda kropka reprezentuje jeden przykład, a różne kolory odpowiadają różnym klasom."
   ]
  },
  {
   "cell_type": "code",
   "execution_count": 4,
   "metadata": {},
   "outputs": [],
   "source": []
  },
  {
   "cell_type": "code",
   "execution_count": null,
   "metadata": {},
   "outputs": [],
   "source": []
  },
  {
   "cell_type": "markdown",
   "metadata": {},
   "source": [
    "# Zad.\n",
    "\n",
    "Naucz liniwy  model SVM \n",
    "\n",
    "* C = 0.0001\n",
    "* C = 0.001\n",
    "* C = 0.01\n",
    "* C = 0.1\n",
    "* C = 1.\n",
    "* C = 10.\n",
    "* C = 100.\n",
    "\n",
    "Wykonaj wykres ilustrujący wyniki."
   ]
  },
  {
   "cell_type": "markdown",
   "metadata": {},
   "source": [
    "## Trening modelu liniowego SVC\n",
    "Teraz przechodzimy do nauki modelu liniowego SVM, który próbuje znaleźć prostą linię oddzielającą te dwie klasy. Model ten ma parametr C, który zmienimy, aby zobaczyć, jak wpływa na wyniki.\n",
    "\n",
    "`C = 0.0001`: Bardzo niski poziom dokładności – model nie stara się zbytnio dopasować do danych.\n",
    "\n",
    "`C = 100`: Model stara się maksymalnie dopasować do danych, co może prowadzić do nadmiernego dopasowania (ang. **overfitting**).\n",
    "\n",
    "Poniżej jest kod, który uczy model dla różnych wartości C i wykreśla decyzje modelu na wykresie."
   ]
  },
  {
   "cell_type": "code",
   "execution_count": null,
   "metadata": {},
   "outputs": [],
   "source": []
  },
  {
   "cell_type": "markdown",
   "metadata": {},
   "source": [
    "## Trening i testowanie modelu\n",
    "Teraz podzielimy dane na zbiór treningowy (używany do nauki modelu) i testowy (do sprawdzenia, jak model działa na nowych danych). Następnie wytrenujemy model z **C = 100** i sprawdzimy, jak dobrze klasyfikuje nowe dane."
   ]
  },
  {
   "cell_type": "code",
   "execution_count": null,
   "metadata": {},
   "outputs": [],
   "source": [
    "from sklearn.model_selection import train_test_split\n",
    "\n",
    "current_c = 100\n",
    "\n",
    "\n",
    "\n",
    "print(f\"{svc} classification test score: {svc_score}\")"
   ]
  },
  {
   "cell_type": "markdown",
   "metadata": {},
   "source": [
    "Wartość score to dokładność modelu – im wyższa, tym lepiej model sobie radzi. Ale uwaga, bardzo wysokie wyniki mogą oznaczać, że model zbyt mocno dopasował się do danych treningowych i nie będzie dobrze działał na nowych przykładach."
   ]
  }
 ],
 "metadata": {
  "kernelspec": {
   "display_name": "Python 3",
   "language": "python",
   "name": "python3"
  },
  "language_info": {
   "codemirror_mode": {
    "name": "ipython",
    "version": 3
   },
   "file_extension": ".py",
   "mimetype": "text/x-python",
   "name": "python",
   "nbconvert_exporter": "python",
   "pygments_lexer": "ipython3",
   "version": "3.11.8"
  }
 },
 "nbformat": 4,
 "nbformat_minor": 2
}
