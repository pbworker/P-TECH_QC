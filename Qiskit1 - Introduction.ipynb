{
 "cells": [
  {
   "cell_type": "markdown",
   "metadata": {
    "slideshow": {
     "slide_type": "slide"
    }
   },
   "source": [
    "## How to learn Qiskit:\n",
    "\n",
    "- [https://qiskit.org/learn/](https://qiskit.org/learn/)\n",
    "- [https://qiskit.org/documentation/](https://qiskit.org/documentation/)"
   ]
  },
  {
   "cell_type": "markdown",
   "metadata": {
    "slideshow": {
     "slide_type": "slide"
    }
   },
   "source": [
    "#### Programming SDKs for quantum computers (QSDKs) that exist today:\n",
    "1. IBM - <b>Qiskit</b> (Python, https://github.com/Qiskit/)\n",
    "2. Google - <b>Cirq</b> (Python, https://github.com/quantumlib/Cirq)\n",
    "3. Rigetti - <b>PyQuil</b> (Python, https://github.com/rigetti/pyquil)\n",
    "4. Microsoft - <b>Microsoft Quantum Development Kit</b> (Q#, https://github.com/microsoft/Quantum)\n",
    "5. ETH Zurich - <b>Project Q</b> (Python, https://github.com/ProjectQ-Framework/ProjectQ)\n",
    "\n",
    "#### Good overview publication: https://arxiv.org/pdf/1807.02500.pdf"
   ]
  },
  {
   "cell_type": "markdown",
   "metadata": {},
   "source": [
    "# Let's learn basics on the Bell's state example..."
   ]
  },
  {
   "cell_type": "code",
   "execution_count": null,
   "metadata": {
    "slideshow": {
     "slide_type": "slide"
    }
   },
   "outputs": [],
   "source": [
    "# Building a circuit:\n",
    "\n",
    "from qiskit import QuantumCircuit\n",
    "from qiskit.providers.aer import QasmSimulator\n",
    "\n",
    "circuit = QuantumCircuit(2, 2)\n",
    "\n",
    "circuit.h(0)\n",
    "circuit.cx(0, 1)\n",
    "circuit.measure(0, 0) \n",
    "circuit.measure(1, 1)\n",
    "\n",
    "%matplotlib inline\n",
    "circuit.draw('mpl')"
   ]
  },
  {
   "cell_type": "code",
   "execution_count": null,
   "metadata": {},
   "outputs": [],
   "source": [
    "#Choosing backend and running the circuit\n",
    "\n",
    "from qiskit import execute\n",
    "\n",
    "backend = QasmSimulator()\n",
    "\n",
    "job = execute(circuit, backend, shots=1024)"
   ]
  },
  {
   "cell_type": "code",
   "execution_count": null,
   "metadata": {
    "slideshow": {
     "slide_type": "subslide"
    }
   },
   "outputs": [],
   "source": [
    "#Getting the results and visualizing them\n",
    "\n",
    "from qiskit.visualization import plot_histogram\n",
    "\n",
    "result = job.result()\n",
    "counts = result.get_counts(circuit)\n",
    "print(counts)\n",
    "\n",
    "plot_histogram(counts)"
   ]
  },
  {
   "cell_type": "markdown",
   "metadata": {
    "slideshow": {
     "slide_type": "subslide"
    }
   },
   "source": [
    "Running jobs with remembering individual shots/runs:"
   ]
  },
  {
   "cell_type": "code",
   "execution_count": null,
   "metadata": {},
   "outputs": [],
   "source": [
    "job = execute(circuit, backend, shots=20, memory=True)\n",
    "data = job.result().get_memory()\n",
    "print(data)"
   ]
  },
  {
   "cell_type": "markdown",
   "metadata": {
    "slideshow": {
     "slide_type": "slide"
    }
   },
   "source": [
    "## Providers and Backends"
   ]
  },
  {
   "cell_type": "markdown",
   "metadata": {
    "slideshow": {
     "slide_type": "subslide"
    }
   },
   "source": [
    "Provider\n",
    "- entity that provides access to group of backends\n",
    "- Qiskit includes 2 providers: `Aer` and `IBMQ`\n",
    "- implements:\n",
    "    - `backends()`\n",
    "    - `get_backend(name)`"
   ]
  },
  {
   "cell_type": "markdown",
   "metadata": {
    "slideshow": {
     "slide_type": "subslide"
    }
   },
   "source": [
    "Backend\n",
    "- represents either simulator or real quantum computer\n",
    "- inherits from `BaseBackend`\n",
    "- implements:\n",
    "    - `run(qobj)`\n",
    "    - `configuration()`\n",
    "    - `properties()`\n",
    "    - `name()`\n",
    "    - `status()`"
   ]
  },
  {
   "cell_type": "markdown",
   "metadata": {
    "slideshow": {
     "slide_type": "slide"
    }
   },
   "source": [
    "## Account and token"
   ]
  },
  {
   "cell_type": "markdown",
   "metadata": {
    "slideshow": {
     "slide_type": "subslide"
    }
   },
   "source": [
    "`IBMQ.save_account('<TOKEN>')`\n",
    "\n",
    "If account is already saved, it can be overwritten with:\n",
    "\n",
    "`IBMQ.save_account('<TOKEN>', overwrite=True)`\n",
    "\n",
    "`IBMQ.stored_account()` - shows what account is stored on the machine\n",
    "\n",
    "`IBMQ.delete_account()` - deletes currently stored account\n",
    "\n",
    "More details: https://quantum-computing.ibm.com/lab/docs/iql/manage/account/ibmq"
   ]
  },
  {
   "cell_type": "code",
   "execution_count": null,
   "metadata": {
    "slideshow": {
     "slide_type": "subslide"
    }
   },
   "outputs": [],
   "source": [
    "from qiskit import IBMQ\n",
    "\n",
    "provider = IBMQ.load_account()"
   ]
  },
  {
   "cell_type": "code",
   "execution_count": null,
   "metadata": {
    "slideshow": {
     "slide_type": "subslide"
    }
   },
   "outputs": [],
   "source": [
    "IBMQ.providers()"
   ]
  },
  {
   "cell_type": "code",
   "execution_count": null,
   "metadata": {
    "slideshow": {
     "slide_type": "slide"
    }
   },
   "outputs": [],
   "source": [
    "provider.backends()"
   ]
  },
  {
   "cell_type": "code",
   "execution_count": null,
   "metadata": {
    "slideshow": {
     "slide_type": "slide"
    }
   },
   "outputs": [],
   "source": [
    "from qiskit.tools.monitor import backend_overview, backend_monitor\n",
    "backend_overview()"
   ]
  },
  {
   "cell_type": "code",
   "execution_count": null,
   "metadata": {
    "slideshow": {
     "slide_type": "slide"
    }
   },
   "outputs": [],
   "source": [
    "real_backend = provider.get_backend('ibmq_belem')\n",
    "job_real = execute(circuit, real_backend, shots=1024)\n",
    "job_real_id=job_real.job_id()\n",
    "job_real_id"
   ]
  },
  {
   "cell_type": "code",
   "execution_count": null,
   "metadata": {
    "slideshow": {
     "slide_type": "subslide"
    }
   },
   "outputs": [],
   "source": [
    "print(job_real.queue_position())"
   ]
  },
  {
   "cell_type": "code",
   "execution_count": null,
   "metadata": {},
   "outputs": [],
   "source": [
    "from qiskit.tools.monitor import job_monitor\n",
    "\n",
    "job_monitor(job_real, interval=5)"
   ]
  },
  {
   "cell_type": "code",
   "execution_count": null,
   "metadata": {
    "slideshow": {
     "slide_type": "subslide"
    }
   },
   "outputs": [],
   "source": [
    "print(job_real.status())"
   ]
  },
  {
   "cell_type": "markdown",
   "metadata": {
    "slideshow": {
     "slide_type": "fragment"
    }
   },
   "source": [
    "`<JobStatus.QUEUED: 'job is queued'>`\n",
    "\n",
    "`<JobStatus.RUNNING: 'job is actively running'>`\n",
    "\n",
    "`<JobStatus.DONE: 'job has successfully run'>`"
   ]
  },
  {
   "cell_type": "code",
   "execution_count": null,
   "metadata": {
    "slideshow": {
     "slide_type": "subslide"
    }
   },
   "outputs": [],
   "source": [
    "for job in real_backend.jobs():\n",
    "    print(str(job.job_id()) + \"   \" + str(job.creation_date()) + \"   \" + str(job.status()))"
   ]
  },
  {
   "cell_type": "code",
   "execution_count": null,
   "metadata": {
    "slideshow": {
     "slide_type": "subslide"
    }
   },
   "outputs": [],
   "source": [
    "real_result = real_backend.retrieve_job(job_real_id).result()"
   ]
  },
  {
   "cell_type": "code",
   "execution_count": null,
   "metadata": {
    "slideshow": {
     "slide_type": "slide"
    }
   },
   "outputs": [],
   "source": [
    "real_counts = real_result.get_counts()"
   ]
  },
  {
   "cell_type": "code",
   "execution_count": null,
   "metadata": {
    "slideshow": {
     "slide_type": "subslide"
    }
   },
   "outputs": [],
   "source": [
    "plot_histogram(real_counts)"
   ]
  },
  {
   "cell_type": "code",
   "execution_count": null,
   "metadata": {
    "slideshow": {
     "slide_type": "subslide"
    }
   },
   "outputs": [],
   "source": [
    "plot_histogram([real_counts, counts], legend=[\"Real backend\", \"Simulator\"])"
   ]
  },
  {
   "cell_type": "markdown",
   "metadata": {
    "slideshow": {
     "slide_type": "slide"
    },
    "tags": []
   },
   "source": [
    "## Exercise 1 - coin flip simulation\n",
    "Write program in Qiskit that will generate N random bit values (0 or 1) using Hadamard gate and quantum simulator.\n",
    "Hadamard gate puts the qubit (initialized in |0>) in a superposition of |0> and |1> states. Subsequent measurement gives equal probability of getting 0 and 1. N is a parameter which can be set for any number.\n",
    "We use simulator, which means the numbers are not really random (are pseudo-random), but in subsequent exercise we will use real quantum computer for generating really random numbers."
   ]
  },
  {
   "cell_type": "code",
   "execution_count": null,
   "metadata": {},
   "outputs": [],
   "source": [
    "\n",
    "    "
   ]
  },
  {
   "cell_type": "markdown",
   "metadata": {
    "slideshow": {
     "slide_type": "slide"
    }
   },
   "source": [
    "## Exercise 2 - random numbers generator\n",
    "\n",
    "Generate 100 random (not pseudo-random ;)) bits.\n",
    "You do this in the same way as in case of Exercise 1, but use real quantum computer this time"
   ]
  },
  {
   "cell_type": "code",
   "execution_count": null,
   "metadata": {},
   "outputs": [],
   "source": []
  },
  {
   "cell_type": "markdown",
   "metadata": {},
   "source": [
    "## How to get matrices representing circuits and vectors representing states?"
   ]
  },
  {
   "cell_type": "code",
   "execution_count": null,
   "metadata": {},
   "outputs": [],
   "source": [
    "from qiskit.quantum_info import Statevector\n",
    "\n",
    "qc = QuantumCircuit(1)\n",
    "qc.x(0)\n",
    "qc.h(0)\n",
    "\n",
    "#Look - no measurement!!!\n",
    "\n",
    "minus_state = Statevector.from_instruction(qc)\n",
    "minus_state.draw('latex')"
   ]
  },
  {
   "cell_type": "code",
   "execution_count": null,
   "metadata": {},
   "outputs": [],
   "source": [
    "minus_state.draw('bloch')"
   ]
  },
  {
   "cell_type": "code",
   "execution_count": null,
   "metadata": {},
   "outputs": [],
   "source": [
    "from qiskit.quantum_info.operators import Operator\n",
    "\n",
    "circuit2 = QuantumCircuit(1, 1)\n",
    "circuit2.h(0)\n",
    "\n",
    "U = Operator(circuit2)\n",
    "\n",
    "# Show the results\n",
    "print(U.data)"
   ]
  },
  {
   "cell_type": "code",
   "execution_count": null,
   "metadata": {},
   "outputs": [],
   "source": [
    "from qiskit.visualization import array_to_latex\n",
    "array_to_latex(U.data)"
   ]
  },
  {
   "cell_type": "markdown",
   "metadata": {},
   "source": [
    "## Exercise 3\n",
    "\n",
    "Visualize the rotations on Bloch sphere to create $|->$ state"
   ]
  },
  {
   "cell_type": "code",
   "execution_count": null,
   "metadata": {},
   "outputs": [],
   "source": [
    "from qiskit.visualization import visualize_transition\n",
    "\n",
    "visualize_transition(qc, fpg=40, spg=2, trace=True)"
   ]
  },
  {
   "cell_type": "markdown",
   "metadata": {},
   "source": [
    "## Now let's create a 3-qubit circuit which is a linear combination of only the following two basis states $|101>$ and $|011>$"
   ]
  },
  {
   "cell_type": "code",
   "execution_count": null,
   "metadata": {
    "tags": []
   },
   "outputs": [],
   "source": [
    "qc3 = QuantumCircuit(3, 3)\n",
    "qc3.x(0)\n",
    "qc3.h(1)\n",
    "qc3.cx(1,2)\n",
    "qc3.x(2)\n",
    "#qc.x(2)\n",
    "qc3.measure([0,1,2], [0,1,2])\n",
    "\n",
    "backend3 = QasmSimulator()\n",
    "job3 = execute(qc3, backend3, shots=1024)\n",
    "result3 = job3.result()\n",
    "counts3 = result3.get_counts(qc3)\n",
    "print(counts3)\n",
    "\n",
    "plot_histogram(counts3)"
   ]
  },
  {
   "cell_type": "markdown",
   "metadata": {
    "slideshow": {
     "slide_type": "fragment"
    }
   },
   "source": [
    "## Homework\n",
    "\n",
    "Write qiskit circuit introducing the superposition of the binary representation of first letters of your name and surname.\n",
    "Write Matplotlib plot visualizing the result.\n",
    "Do the visualization when run on simulator.\n",
    "Then run on real hardware limiting to 5 qubits and adding fixed constant qubits later on.\n",
    "\n",
    "**Send the Jupyter Notebook to pawel.gora@qaif.org**"
   ]
  },
  {
   "cell_type": "code",
   "execution_count": null,
   "metadata": {
    "scrolled": true,
    "slideshow": {
     "slide_type": "fragment"
    }
   },
   "outputs": [],
   "source": [
    "# Hint on visualization:\n",
    "\n",
    "import matplotlib.pyplot as plt\n",
    "plt.rc('font', family='monospace')\n",
    "plt.annotate('T', (0.5,0.5), va=\"center\", ha=\"center\", color = (0,0,0,0.1), size = 300)\n",
    "plt.annotate('S', (0.5,0.5), va=\"center\", ha=\"center\", color = (0,0,0,0.8), size = 300)\n",
    "plt.axis('off')\n",
    "plt.show()"
   ]
  }
 ],
 "metadata": {
  "celltoolbar": "Slideshow",
  "kernelspec": {
   "display_name": "Python 3 (ipykernel)",
   "language": "python",
   "name": "python3"
  },
  "language_info": {
   "codemirror_mode": {
    "name": "ipython",
    "version": 3
   },
   "file_extension": ".py",
   "mimetype": "text/x-python",
   "name": "python",
   "nbconvert_exporter": "python",
   "pygments_lexer": "ipython3",
   "version": "3.8.15"
  },
  "rise": {
   "enable_chalkboard": true,
   "scroll": true
  },
  "widgets": {
   "application/vnd.jupyter.widget-state+json": {
    "state": {},
    "version_major": 2,
    "version_minor": 0
   }
  }
 },
 "nbformat": 4,
 "nbformat_minor": 4
}
