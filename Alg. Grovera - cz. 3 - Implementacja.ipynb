{
 "cells": [
  {
   "cell_type": "markdown",
   "metadata": {},
   "source": [
    "<font style=\"font-size:28px;\" align=\"left\"><b>Algorytm Grovera - cz. 3: Implementacja </b></font>"
   ]
  },
  {
   "cell_type": "markdown",
   "metadata": {},
   "source": [
    "Teraz zastanowimy się, jak zaimplementować wyszukiwanie Grovera. Przypomnijmy cały algorytm.\n",
    "\n",
    "Dano nam elementy $N=2^n$ i jeden element jest zaznaczony. Zadanie polega na odnalezieniu tego zaznaczonego elementu.\n",
    "\n",
    "Będziemy używać $n$ kubitów. Na początku zastosujemy bramkę Hadamarda do każdego kubitu, dzięki czemu nasz stan kwantowy zostanie wprowadzony w superpozycję. Amplituda każdego stanu bazowego $ \\ket{0 \\cdots 0}, \\ldots, \\ket{1 \\cdots 1} $ jest ustawiona na $ \\frac{1}{\\sqrt{N}} $. Następnie iterujemy kilka razy następujący algorytm:\n",
    "<ul>\n",
    "     <li>Utwórz zapytanie: zastosuj operator zapytania wyroczni (query) do kubitów - odwraca znak amplitudy stanu odpowiadającego zaznaczonemu elementowi.</li>\n",
    "     <li>Inwersja: zastosuj macierz dyfuzji – amplituda każdego stanu jest odbijana względem średniej wszystkich amplitud.</li>\n",
    "</ul>\n",
    "\n",
    "Sprawdźmy jak możemy zaimplementować operacje zapytania i inwersji."
   ]
  },
  {
   "cell_type": "markdown",
   "metadata": {},
   "source": [
    "<h3>Operacja zapytania</h3>\n",
    "\n",
    "<h4>Wyrocznia</h4>\n",
    "\n",
    "Załóżmy, że istnieje funkcja $f:\\{0,1\\}^n \\rightarrow \\{0,1\\}$ o następujących właściwościach:\n",
    "\n",
    "\\begin{align*}\n",
    "f(x)&=1 &\\mbox{ jeśli zaznaczono $x$}\\\\\n",
    "f(x)&=0 &\\mbox{ w przeciwnym razie}\n",
    "\\end{align*}\n",
    "\n",
    "Algorytm Grovera w rzeczywistości nie przeszukuje listy elementów, ale mając funkcję $f$ o powyższych właściwościach, znajduje element $x$ taki, że $f(x)=1$."
   ]
  },
  {
   "cell_type": "markdown",
   "metadata": {},
   "source": [
    "<h3>Zadanie 1 (Dyskusja)</h3>\n"
   ]
  },
  {
   "cell_type": "markdown",
   "metadata": {},
   "source": [
    "Rozważmy następującą funkcję $f:\\{0,1\\}^2 \\rightarrow \\{0,1\\}$. Który element jest zaznaczony? Ile zapytań należy wykonać do $f$, aby w najgorszym przypadku znaleźć zaznaczony element?\n",
    "$$\n",
    "f: \\begin{array}{c|c} \\mathbf{In} & \\mathbf{Out} \\\\ \\hline \\ket{00} & 0 \\\\ \\ket{01} & 0 \\\\ \\ket{10} & 0 \\\\ \\ket{11} & 1 \\end{array}\n",
    "$$"
   ]
  },
  {
   "cell_type": "markdown",
   "metadata": {},
   "source": [
    "$f$ jest często nazywane <font color=\"blue\">wyrocznią</font> lub czarną skrzynką. Chociaż $f$ może nie być odwracalne, można je zaimplementować w sposób odwracalny, korzystając z następującego pomysłu.\n",
    "\n",
    "<img src=\"images/foperator.png\" width=\"20%\" align=\"centrum\">\n",
    "\n",
    "Tutaj odpowiedni operator kwantowy $U_f$ jest zdefiniowany w następujący sposób:\n",
    "\n",
    "$$U_f: \\ket{x}\\ket{y} \\mapsto \\ket{x}\\ket{y \\oplus f(x)} $$ gdzie $\\oplus$ oznacza dodawanie bitowe modulo 2 (XOR).\n",
    "\n",
    "Należy pamiętać, że to mapowanie jest odwracalne. Kiedy $\\ket{y}=\\ket{0}$, otrzymasz dokładnie $f(x)$ na kubicie wyjściowym."
   ]
  },
  {
   "cell_type": "markdown",
   "metadata": {},
   "source": [
    "<h4>Odwrócenie znaku </h4>\n",
    "\n",
    "W dalszej części dyskusji będziemy zakładać, że mamy dany obwód kwantowy realizujący operator $U_f$. Operator odwracający znak amplitudy stanu odpowiadającego zaznaczonemu elementowi $x$ można skonstruować wykorzystując <font color=\"blue\">odbicie fazy</font> (phase kickback).\n",
    "\n",
    "Załóżmy teraz, że $\\ket{y}=\\ket{-} = \\frac{1}{\\sqrt{2}} (\\ket{0} - \\ket{1})$ i zbadajmy wpływ operatora $U_f$."
   ]
  },
  {
   "cell_type": "markdown",
   "metadata": {},
   "source": [
    "\\begin{align*}\n",
    "U_f \\ket{x}\\ket{-} &= U_f \\ket{x}  \\frac{1}{\\sqrt{2}} \\mypar{ \\ket{0}-\\ket{1} }\\\\\n",
    "&= \\frac{1}{\\sqrt{2}} (U_f\\ket{x}\\ket{0}-U_f\\ket{x}\\ket{1}) \\\\\n",
    "&= \\frac{1}{\\sqrt{2}} (\\ket{x}\\ket{f(x)\\oplus 0} - \\ket{x}\\ket{f(x)\\oplus 1}) \\\\\n",
    "&= \\ket{x} \\frac{1}{\\sqrt{2}}\\mypar{ \\ket{f(x)}-\\ket{f(x)\\oplus 1}  } \\\\\n",
    "&= \\ket{x} (-1)^{f(x)} \\frac{1}{\\sqrt{2}} \\mypar{ \\ket{0}-\\ket{1} }\\\\\n",
    "&= (-1)^{f(x)} \\ket{x} \\ket{-}\n",
    "\\end{align*}"
   ]
  },
  {
   "cell_type": "markdown",
   "metadata": {},
   "source": [
    "Mamy następującą transformację:\n",
    "   $$  \\ket{x}\\ket{-} \\xrightarrow{U_f} (-1)^{f(x)} \\ket{x}\\ket{-} $$"
   ]
  },
  {
   "cell_type": "markdown",
   "metadata": {},
   "source": [
    "Przygotowując rejestr wyjściowy (|y>) w stanie $\\ket{-}$ i stosując $U_f$, uzyskujemy efekt odwrócenia znaku. Zauważ, że nawet jeśli nic nie wiemy o $f$ (dlatego nazywa się to czarną skrzynką), to jesteśmy w stanie odwrócić znak amplitudy zaznaczonego elementu wykonując zapytanie do $f$, ustawiając kubit wyjściowy do $\\ket{-}$.\n"
   ]
  },
  {
   "cell_type": "markdown",
   "metadata": {},
   "source": [
    "<h3>Zadanie 2</h3>\n"
   ]
  },
  {
   "cell_type": "markdown",
   "metadata": {},
   "source": [
    "Niech $N=4$. Zaimplementuj fazę zapytania (query) i sprawdź macierz unitarną dla operatora zapytania. Zauważ, że interesuje nas lewy górny róg macierzy 4 $ \\times 4$, ponieważ pozostałe części wynikają z kubitu pomocniczego (ancilla)."
   ]
  },
  {
   "cell_type": "markdown",
   "metadata": {},
   "source": [
    "Dostajesz funkcję $f$ i odpowiadający jej operator kwantowy $U_f$. Najpierw uruchom następującą komórkę, aby załadować operator $U_f$. Następnie możesz wykonywać zapytania do $f$, stosując operator $U_f$ za pomocą następującego polecenia:\n",
    "\n",
    "<pre>Uf(obwód,qreg)."
   ]
  },
  {
   "cell_type": "code",
   "execution_count": 1,
   "metadata": {},
   "outputs": [],
   "source": [
    "%run quantum.py"
   ]
  },
  {
   "cell_type": "markdown",
   "metadata": {},
   "source": [
    "Teraz użyj odbicia fazowego, aby odwrócić znak zaznaczonego elementu:\n",
    "\n",
    "<ul>\n",
    "     <li>Ustaw kubit wyjściowy (qreg[2]) na $\\ket{-}$, stosując X i H.</li>\n",
    "     <li>Zastosuj operator $U_f$\n",
    "     <li>Ustaw z powrotem kubit wyjściowy (qreg[2]).</li>\n",
    "</ul>\n",
    "\n",
    "(Czy potrafisz odgadnąć zaznaczony element, patrząc na macierz unitarną?)"
   ]
  },
  {
   "cell_type": "code",
   "execution_count": 3,
   "metadata": {},
   "outputs": [
    {
     "name": "stdout",
     "output_type": "stream",
     "text": [
      "  1.0  0.0  0.0  0.0\n",
      "  0.0  1.0  0.0  0.0\n",
      "  0.0  0.0  1.0  0.0\n",
      "  0.0  0.0  0.0  1.0\n"
     ]
    },
    {
     "data": {
      "image/png": "[encoded data removed]",
      "text/plain": [
       "<Figure size 180.31x284.278 with 1 Axes>"
      ]
     },
     "execution_count": 3,
     "metadata": {},
     "output_type": "execute_result"
    }
   ],
   "source": [
    "from qiskit import QuantumRegister, ClassicalRegister, QuantumCircuit, execute, Aer\n",
    "\n",
    "qreg = QuantumRegister(3)\n",
    "#No need to define classical register as we are not measuring\n",
    "\n",
    "mycircuit = QuantumCircuit(qreg)\n",
    "\n",
    "\n",
    "#\n",
    "#Your code here\n",
    "#\n",
    "\n",
    "\n",
    "job = execute(mycircuit,Aer.get_backend('unitary_simulator'))\n",
    "u=job.result().get_unitary(mycircuit,decimals=3).data\n",
    "\n",
    "#We are interested in the top-left 4x4 part\n",
    "for i in range(4):\n",
    "    s=\"\"\n",
    "    for j in range(4):\n",
    "        val = str(u[i][j].real)\n",
    "        while(len(val)<5): val  = \" \"+val\n",
    "        s = s + val\n",
    "    print(s)\n",
    "    \n",
    "\n",
    "mycircuit.draw(output='mpl')"
   ]
  },
  {
   "cell_type": "markdown",
   "metadata": {},
   "source": [
    "<hr>\n",
    "\n",
    "W Zadaniu 2 widzimy, że operator zapytania wygląda jak operator tożsamości z jednym z wpisów równym -1, co odpowiada za odwrócenie znaku.\n",
    "\n",
    "$\\mymatrix{cccc}{1 & 0 & 0 & 0 \\\\ 0 & 1 & 0 & 0 \\\\ 0 & 0 & 1 & 0 \\\\ 0 & 0 & 0 & -1}$.\n",
    "\n",
    "Patrząc na macierz, możemy zgadnąć, że zaznaczony element to $\\ket{11}$. Należy pamiętać, że generalnie nie można zajrzeć do macierzy odpowiadającej operatorowi zapytania i dlatego po pojedynczym zapytaniu nie da się znaleźć zaznaczonego elementu."
   ]
  },
  {
   "cell_type": "markdown",
   "metadata": {},
   "source": [
    "<h3>Operator inwersji</h3>"
   ]
  },
  {
   "cell_type": "markdown",
   "metadata": {},
   "source": [
    "Aby zaimplementować operację inwersji (dyfuzji), będziemy potrzebować dodatkowego kubitu pomocniczego (ancilla). Oto jak implementujemy operator inwersji:\n",
    "\n",
    "<ul>\n",
    "     <li>Ustaw kubit ancilla na $\\ket{-}$, stosując X i H.</li>\n",
    "     <li>Zastosuj H do wszystkich kubitów innych niż ancilla.</li>\n",
    "     <li>Zastosuj X do wszystkich kubitów innych niż ancilla.</li>\n",
    "     <li>Zastosuj wielokrotny kontrolowany operator NOT, gdzie kubit ancilla jest celem, a wszystkie inne kubity są używane do sterowania.</li>\n",
    "     <li>Zastosuj X do kubitu ancilla.</li>\n",
    "     <li>Zastosuj X do wszystkich kubitów innych niż ancilla.</li>\n",
    "     <li>Zastosuj H do wszystkich kubitów innych niż ancilla.</li>\n",
    "     <li>Ustaw kubit Ancilla, stosując X i H.</li>\n",
    "</ul>"
   ]
  },
  {
   "cell_type": "markdown",
   "metadata": {},
   "source": [
    "<h4>Dlaczego wybrano te bramki? (Opcjonalnie) </h4>\n",
    "\n",
    "Spróbujmy teraz zrozumieć, dlaczego wybrano te bramki. Przypomnijmy sobie operator inwersji:\n",
    "\n",
    "$$ 2 \\mymatrix{ccc}{\n",
    "     \\frac{1}{N} & \\cdots & \\frac{1}{N} \\\\\n",
    "     \\vdots & \\ddots & \\vdots \\\\\n",
    "     \\frac{1}{N} & \\cdots & \\frac{1}{N} \\\\\n",
    "     }\n",
    "- I . $$\n",
    "\n",
    "\n",
    "Operator ten nazywany jest także <font color=\"blue\">operatorem dyfuzji</font>.\n",
    "\n",
    "Przypomnijmy, że operator dyfuzji można wyrazić jako $D=2\\ket{u}\\bra{u}-I$ gdzie $\\ket{u}=H^{\\otimes n}\\ket{0^n}$. Będziemy po prostu oznaczać $\\ket{0^n}$ przez $\\ket{\\mathbf{0}}$."
   ]
  },
  {
   "cell_type": "markdown",
   "metadata": {},
   "source": [
    "- Na początek wyraźmy $D$ w następujący sposób:\n",
    "\n",
    "\\begin{align*}\n",
    "D=2\\ket{u}\\bra{u}-I &= 2H^{\\otimes n}\\ket{\\mathbf{0}}\\bra{\\mathbf{0}}H^{\\otimes n}- I \\\\\n",
    "&= 2H^{\\otimes n}\\ket{\\mathbf{0}}\\bra{\\mathbf{0}}H^{\\otimes n}-H^{\\otimes n}H^{\\otimes n}\\ \\\n",
    "&=H^{\\otimes n} (2\\ket{\\mathbf{0}}\\bra{\\mathbf{0}}H^{\\otimes n}-H^{\\otimes n}) \\\\\n",
    "&=H^{\\otimes n} (2\\ket{\\mathbf{0}}\\bra{\\mathbf{0}}-I)H^{\\otimes n}\n",
    "\\end{align*}\n",
    "\n",
    "<font color=\"blue\"><i>Patrząc na to wyrażenie, staje się jasne, dlaczego na początku i na końcu mamy bramki H</i>"
   ]
  },
  {
   "cell_type": "markdown",
   "metadata": {},
   "source": [
    "- Teraz przyjrzyjmy się efektowi zastosowania $2\\ket{\\mathbf{0}}\\bra{\\mathbf{0}}-I$ do dowolnego stanu z dziedziny $f$.\n",
    "\n",
    "$(2\\ket{\\mathbf{0}}\\bra{\\mathbf{0}}-I) \\ket{x} = 2\\ket{\\mathbf{0}}\\braket{\\mathbf{0}}{ x}-\\ket{x} .$\n",
    "\n",
    "Jeśli $\\ket{x}=\\ket{\\mathbf{0}}$, ponieważ $\\braket{\\mathbf{0}}{\\mathbf{0}}=1$, to $2\\ket{\\mathbf{0 }}\\braket{\\mathbf{0}}{\\mathbf{0}}-\\ket{\\mathbf{0}} = 2\\ket{\\mathbf{0}}-\\ket{\\mathbf{0}} = \\ket{\\mathbf{0}}$.\n",
    "\n",
    "Jeśli $\\ket{x}\\neq \\ket{\\mathbf{0}}$, ponieważ $\\braket{\\mathbf{0}}{x}=0$, to $2\\ket{\\mathbf{0}}\\braket{\\mathbf{0}}{x}-\\ket{x}= 2\\ket{\\mathbf{0}}\\cdot 0 -\\ket{x} = -\\ket{x}$.\n",
    "\n",
    "Zatem efektem $2\\ket{\\mathbf{0}}\\bra{\\mathbf{0}}-I$ jest odwrócenie amplitudy dowolnego stanu z wyjątkiem $\\ket{\\mathbf{0}}$."
   ]
  },
  {
   "cell_type": "markdown",
   "metadata": {},
   "source": [
    "- Zobaczmy teraz, jak możemy zaimplementować ten operator. Zdefiniujmy funkcję $g$ w następujący sposób:\n",
    "\n",
    "\\begin{align*}\n",
    "g(x)&=0 &\\mbox{ jeśli $x$ wynosi $\\ket{\\mathbf{0}}$ }\\\\\n",
    "g(x)&=1 &\\mbox{ w przeciwnym razie},\n",
    "\\end{align*}\n",
    "\n",
    "\n",
    "\n",
    "Ustawmy qubit ancilla na stan $\\ket{-}$ i zastosujmy operator $U_g$.\n",
    "\\begin{align*}\n",
    "U_g \\ket{x}\\ket{-} &= (-1)^{g(x)} \\ket{x} \\ket{-}.\n",
    "\\end{align*}\n",
    "\n",
    "\n",
    "Zauważ, że $U_g$ odwraca amplitudy stanów innych niż $\\ket{\\mathbf{0}}$ i dokładnie implementuje $2\\ket{\\mathbf{0}}\\bra{\\mathbf{0}}-I$."
   ]
  },
  {
   "cell_type": "markdown",
   "metadata": {},
   "source": [
    "- Jak zaimplementować $U_g$?\n",
    "\n",
    "Rozważmy $g'$, które jest dokładnym przeciwieństwem $g$.\n",
    "\n",
    "\\begin{align*}\n",
    "g'(x)&=1 &\\mbox{ jeśli $x$ wynosi $\\ket{\\mathbf{0}}$ }\\\\\n",
    "g'(x)&=0 &\\mbox{ w przeciwnym razie},\n",
    "\\end{align*}\n",
    "\n",
    "Aby zaimplementować $U_g'$, powinniśmy wyprowadzić 1, gdy $x$ wynosi $\\ket{\\bf 0}$, to znaczy powinniśmy zastosować bramkę $X$ do kubitu wyjściowego, gdy wszystkie kubity wejściowe są w stanie 0."
   ]
  },
  {
   "cell_type": "markdown",
   "metadata": {},
   "source": [
    "Właśnie uzyskaliśmy odwrotny efekt $g$: kubit wyjściowy jest ustawiony na 1, jeśli wszystkie kubity wejściowe są w stanie 0.\n",
    "\n",
    "<font color=\"blue\"><i>Dlatego stosujemy bramkę $X$ do kubitu ancila, tak aby wynik wynosił 1, gdy $x$ nie wynosi $\\ket{\\bf{0}}$, a wynikiem było 0 w przeciwnym razie. </i>"
   ]
  },
  {
   "cell_type": "markdown",
   "metadata": {},
   "source": [
    "<h3>Zadanie 3</h3>\n",
    "\n",
    "Niech $N=4$. Zaimplementuj operator inwersji i sprawdź, czy otrzymasz następującą macierz:\n",
    "\n",
    "$\\mymatrix{cccc}{-0.5 & 0.5 & 0.5 & 0.5 \\\\ 0.5 & -0.5 & 0.5 & 0.5 \\\\ 0.5 & 0.5 & -0.5 & 0.5 \\\\ 0.5 & 0.5 & 0.5 & -0.5}$."
   ]
  },
  {
   "cell_type": "code",
   "execution_count": null,
   "metadata": {},
   "outputs": [],
   "source": [
    "def inversion(circuit,quantum_reg):\n",
    "    \n",
    "#don't implement the first and last steps in which ancilla qubit is set\n",
    "\n",
    "\n",
    "#\n",
    "# your code is here\n",
    "#"
   ]
  },
  {
   "cell_type": "markdown",
   "metadata": {},
   "source": [
    "Poniżej możesz sprawdzić macierz swojego operatora inwersji i jak wygląda obwód. Nas interesuje lewa górna część macierzy 4 $ \\times 4$, pozostałe części wynikają z użycia kubitu ancilla."
   ]
  },
  {
   "cell_type": "code",
   "execution_count": null,
   "metadata": {},
   "outputs": [],
   "source": [
    "from qiskit import QuantumRegister, ClassicalRegister, QuantumCircuit, execute, Aer\n",
    "\n",
    "qreg1 =  QuantumRegister(3)\n",
    "\n",
    "mycircuit1 = QuantumCircuit(qreg1)\n",
    "\n",
    "#set ancilla qubit\n",
    "mycircuit1.x(qreg1[2])\n",
    "mycircuit1.h(qreg1[2])\n",
    "    \n",
    "inversion(mycircuit1,qreg1)\n",
    "\n",
    "#set ancilla qubit back\n",
    "mycircuit1.h(qreg1[2])\n",
    "mycircuit1.x(qreg1[2])\n",
    "\n",
    "\n",
    "job = execute(mycircuit1,Aer.get_backend('unitary_simulator'))\n",
    "u=job.result().get_unitary(mycircuit1,decimals=3).data\n",
    "for i in range(4):\n",
    "    s=\"\"\n",
    "    for j in range(4):\n",
    "        val = str(u[i][j].real)\n",
    "        while(len(val)<5): val  = \" \"+val\n",
    "        s = s + val\n",
    "    print(s)\n",
    "    \n",
    "mycircuit1.draw(output='mpl')"
   ]
  },
  {
   "cell_type": "markdown",
   "metadata": {},
   "source": [
    "Poniżej możesz sprawdzić macierz swojego operatora inwersji i jak wygląda obwód. Nas interesuje lewa górna część macierzy 4 $ \\times 4$, pozostałe części wynikają z użycia kubitu ancilla."
   ]
  },
  {
   "cell_type": "code",
   "execution_count": null,
   "metadata": {},
   "outputs": [],
   "source": [
    "%run quantum.py"
   ]
  },
  {
   "cell_type": "code",
   "execution_count": null,
   "metadata": {},
   "outputs": [],
   "source": [
    "from qiskit import QuantumRegister, ClassicalRegister, QuantumCircuit, execute, Aer\n",
    "\n",
    "qreg = QuantumRegister(3)\n",
    "creg = ClassicalRegister(2)\n",
    "\n",
    "mycircuit = QuantumCircuit(qreg,creg)\n",
    "\n",
    "#Grover\n",
    "\n",
    "\n",
    "#initial step - equal superposition\n",
    "#\n",
    "#your code here\n",
    "#\n",
    "\n",
    "#set ancilla \n",
    "#\n",
    "#your code here\n",
    "#\n",
    "\n",
    "\n",
    "\n",
    "#change the number of iterations\n",
    "iterations=1\n",
    "\n",
    "#Grover's iterations.\n",
    "#\n",
    "#Query operator\n",
    "#\n",
    "#Inversion operator\n",
    "#\n",
    "   \n",
    "#set ancilla\n",
    "#\n",
    "#your code here\n",
    "#\n",
    "\n",
    "mycircuit.measure(qreg[0],creg[0])\n",
    "mycircuit.measure(qreg[1],creg[1])\n",
    "\n",
    "job = execute(mycircuit,Aer.get_backend('qasm_simulator'),shots=10000)\n",
    "counts = job.result().get_counts(mycircuit)\n",
    "\n",
    "# print the outcome\n",
    "for outcome in counts:\n",
    "    print(outcome,\"is observed\",counts[outcome],\"times\")\n",
    "\n",
    "mycircuit.draw(output='mpl')"
   ]
  },
  {
   "cell_type": "markdown",
   "metadata": {},
   "source": [
    "<h3>Zadanie 5 (opcjonalne, wymagające)</h3>\n",
    "\n",
    "Zaimplementuj operację inwersji dla $n=3$ ($N=8$). Tym razem będziesz potrzebować 5 kubitów - 3 do operacji, 1 do ancilli i jeszcze jednego kubitu do zaimplementowania bramki nie kontrolowanej przez trzy kubity.\n",
    "\n",
    "W implementacji kubitem ancilla będzie kubit 3, podczas gdy kubity sterujące to 0, 1 i 2; kubit 4 jest używany do operacji wielokrotnego sterowania. W rezultacie powinieneś otrzymać następujące wartości w lewym górnym wpisie $8 \\times 8$:\n",
    "\n",
    "$\\mymatrix{cccccccc}{-0.75 & 0.25 & 0.25 & 0.25 & 0.25 & 0.25 & 0.25 & 0.25 \\\\ 0.25 & -0.75 & 0.25 & 0.25 & 0.25 & 0.25 & 0.25 & 0.25 \\\\ 0.25 & 0.25 & -0.75 & 0.25 & 0.25 & 0.25 & 0.25 & 0.25 \\\\ 0.25 & 0.25 & 0.25 & -0.75 & 0.25 & 0.25 & 0.25 & 0.25 \\\\ 0.25 & 0.25 & 0.25 & 0.25 & -0.75 & 0.25 & 0.25 & 0.25 \\\\ 0.25 & 0.25 & 0.25 & 0.25 & 0.25 & -0.75 & 0.25 & 0.25 \\\\ 0.25 & 0.25 & 0.25 & 0.25 & 0.25 & 0.25 & -0.75 & 0.25 \\\\ 0.25 & 0.25 & 0.25 & 0.25 & 0.25 & 0.25 & 0.25 & -0.75}$."
   ]
  },
  {
   "cell_type": "code",
   "execution_count": null,
   "metadata": {},
   "outputs": [],
   "source": [
    "def big_inversion(circuit,quantum_reg):\n",
    "    \n",
    "    \n",
    "#\n",
    "# your code is here\n",
    "#\n"
   ]
  },
  {
   "cell_type": "markdown",
   "metadata": {},
   "source": [
    "Poniżej możesz sprawdzić macierz operatora inwersji. Nas interesuje lewy górny róg macierzy wynoszący 8 $ \\times 8$, pozostałe części wynikają z dodatkowych kubitów."
   ]
  },
  {
   "cell_type": "code",
   "execution_count": null,
   "metadata": {},
   "outputs": [],
   "source": [
    "from qiskit import QuantumRegister, ClassicalRegister, QuantumCircuit, execute, Aer\n",
    "\n",
    "big_qreg2 =  QuantumRegister(5)\n",
    "\n",
    "big_mycircuit2 = QuantumCircuit(big_qreg2)\n",
    "\n",
    "#set ancilla\n",
    "big_mycircuit2.x(big_qreg2[3])\n",
    "big_mycircuit2.h(big_qreg2[3])\n",
    "    \n",
    "big_inversion(big_mycircuit2,big_qreg2)\n",
    "\n",
    "#set ancilla back\n",
    "big_mycircuit2.h(big_qreg2[3])\n",
    "big_mycircuit2.x(big_qreg2[3])\n",
    "\n",
    "job = execute(big_mycircuit2,Aer.get_backend('unitary_simulator'))\n",
    "u=job.result().get_unitary(big_mycircuit2,decimals=3).data\n",
    "for i in range(8):\n",
    "    s=\"\"\n",
    "    for j in range(8):\n",
    "        val = str(u[i][j].real)\n",
    "        while(len(val)<6): val  = \" \"+val\n",
    "        s = s + val\n",
    "    print(s)"
   ]
  },
  {
   "cell_type": "markdown",
   "metadata": {},
   "source": [
    "<h3>Zadanie 6: Testowanie wyszukiwania Grovera pod kątem 8 elementów (opcjonalne, wymagające)</h3>\n",
    "\n",
    "Teraz przetestujemy wyszukiwanie Grovera na 8 elementach.\n",
    "\n",
    "Dostajesz operator $U_{f_8}$. Najpierw uruchom następującą komórkę, aby ją załadować. Możesz uzyskać do niego dostęp poprzez:\n",
    "\n",
    "<pre>Uf_8(obwód,qreg)</pre>\n",
    "    \n",
    "Który stan obserwujesz najczęściej?"
   ]
  },
  {
   "cell_type": "code",
   "execution_count": null,
   "metadata": {},
   "outputs": [],
   "source": [
    "%run quantum.py"
   ]
  },
  {
   "cell_type": "code",
   "execution_count": null,
   "metadata": {},
   "outputs": [],
   "source": [
    "from qiskit import QuantumRegister, ClassicalRegister, QuantumCircuit, execute, Aer\n",
    "\n",
    "qreg8 =  QuantumRegister(5)\n",
    "creg8 = ClassicalRegister(3)\n",
    "\n",
    "mycircuit8 = QuantumCircuit(qreg8,creg8)\n",
    "\n",
    "\n",
    "#\n",
    "#Your code here\n",
    "#\n",
    "\n",
    "job = execute(mycircuit8,Aer.get_backend('qasm_simulator'),shots=10000)\n",
    "counts8 = job.result().get_counts(mycircuit8)\n",
    "# print the reverse of the outcome\n",
    "for outcome in counts8:\n",
    "    print(outcome,\"is observed\",counts8[outcome],\"times\")\n",
    "\n",
    "mycircuit8.draw(output='mpl')"
   ]
  },
  {
   "cell_type": "markdown",
   "metadata": {},
   "source": [
    "<h3>Zadanie 7 (opcjonalne)</h3>\n",
    "\n",
    "Czy pamiętasz optymalną liczbę iteracji, aby znaleźć zaznaczony element za pomocą wyszukiwania Grovera? Otrzymasz następujący kod, który implementuje wyszukiwanie Grovera. (<i>giant_oracle</i> i <i>giant_diffusion</i> są już zaimplementowane.) Jest jeden zaznaczony element. Najpierw określ całkowitą liczbę elementów w przestrzeni poszukiwań. Następnie spróbuj znaleźć optymalną liczbę iteracji. Możesz sprawdzić swoje przypuszczenia, zmieniając wartość <i>iteration_count</i>. Sprawdź także mniej optymalne opcje, takie jak <i>iteration_count-1</i>, <i>iteration_count+1</i>.\n",
    "    \n",
    "Spróbuj także wywołać funkcję <i>giant_oracle2</i>, która zaznacza 2 elementy i spróbuj znaleźć optymalną liczbę iteracji."
   ]
  },
  {
   "cell_type": "code",
   "execution_count": null,
   "metadata": {},
   "outputs": [],
   "source": [
    "%run quantum.py\n",
    "from qiskit import QuantumRegister, ClassicalRegister, QuantumCircuit, execute, Aer\n",
    "\n",
    "qreg12 =  QuantumRegister(19)\n",
    "creg12 = ClassicalRegister(10)\n",
    "\n",
    "mycircuit12 = QuantumCircuit(qreg12,creg12)\n",
    "\n",
    "for i in range(10):\n",
    "    mycircuit12.h(qreg12[i])\n",
    "\n",
    "mycircuit12.x(qreg12[10])\n",
    "mycircuit12.h(qreg12[10])\n",
    "\n",
    "#number of iterations - change this value\n",
    "iteration_count = 1\n",
    "for i in range(iteration_count):\n",
    "    giant_oracle2(mycircuit12,qreg12)\n",
    "    giant_diffusion(mycircuit12,qreg12)\n",
    "    \n",
    "mycircuit12.h(qreg12[10])\n",
    "mycircuit12.x(qreg12[10])\n",
    "\n",
    "for i in range(10):\n",
    "    mycircuit12.measure(qreg12[i],creg12[i])\n",
    "\n",
    "job = execute(mycircuit12,Aer.get_backend('qasm_simulator'),shots=100000)\n",
    "counts12 = job.result().get_counts(mycircuit12)\n",
    "# print the reverse of the outcome\n",
    "for outcome in counts12:\n",
    "    print(outcome,\"is observed\",counts12[outcome],\"times\")"
   ]
  },
  {
   "cell_type": "markdown",
   "metadata": {},
   "source": [
    "<h3>Projektowanie funkcji wyroczni</h3>\n",
    "\n",
    "Funkcja wyrocznia $f$ zależy od problemu, który chcesz rozwiązać. Możesz modelować wiele różnych problemów (takich jak kolorowanie wykresów, komiwojażer i wiele innych) jako problem wyszukiwania. Elementy w Twojej przestrzeni poszukiwań odpowiadają stanom kwantowym. Zamiast przeszukiwać całą przestrzeń, projektujesz $f$ tak, aby sprawdzało, czy element w przestrzeni poszukiwań jest rzeczywistym rozwiązaniem i zaznaczało to, wypisując 1. Następnie możesz użyć wyszukiwania Grovera, aby znaleźć rozwiązanie."
   ]
  },
  {
   "cell_type": "markdown",
   "metadata": {},
   "source": [
    "Teraz zaprojektujemy bardzo prostą funkcję wyroczni, która po prostu zaznaczy jeden z elementów. Załóżmy, że $N=4$. Nasze elementy w przestrzeni poszukiwań to $\\ket{00}$, $\\ket{01}$, $\\ket{10}$, $\\ket{11}$ i załóżmy, że chcemy zaznaczyć element $\\ket {11}$. Oznacza to, że funkcja powinna wyprowadzić wartość 1, jeśli kubity wejściowe są w stanie 1. Można to po prostu osiągnąć za pomocą następującej funkcji:"
   ]
  },
  {
   "cell_type": "code",
   "execution_count": null,
   "metadata": {},
   "outputs": [],
   "source": [
    "def oracle_11(circuit,qreg):\n",
    "    circuit1.ccx(qreg[0],qreg[1],qreg[2])             "
   ]
  },
  {
   "cell_type": "markdown",
   "metadata": {},
   "source": [
    "Tutaj qreg[0] i qreg[1] to kubity wejściowe, a qreg[2] to kubit wyjściowy. Sprawdźmy macierz odpowiadającą fazie zapytania."
   ]
  },
  {
   "cell_type": "code",
   "execution_count": null,
   "metadata": {},
   "outputs": [],
   "source": [
    "from qiskit import QuantumRegister, ClassicalRegister, QuantumCircuit, execute, Aer\n",
    "\n",
    "qreg1 =  QuantumRegister(3)\n",
    "\n",
    "circuit1 = QuantumCircuit(qreg1)\n",
    "\n",
    "# prepare ancilla qubit\n",
    "circuit1.x(qreg1[2])\n",
    "circuit1.h(qreg1[2])\n",
    "\n",
    "#call the oracle\n",
    "oracle_11(circuit1,qreg1)\n",
    "\n",
    "# put ancilla qubit back into state |0>\n",
    "circuit1.h(qreg1[2])\n",
    "circuit1.x(qreg1[2])\n",
    "\n",
    "job = execute(circuit1,Aer.get_backend('unitary_simulator'))\n",
    "u=job.result().get_unitary(circuit1,decimals=3).data\n",
    "for i in range(4):\n",
    "    s=\"\"\n",
    "    for j in range(4):\n",
    "        val = str(round(u[i][j].real,3))\n",
    "        while(len(val)<5): val  = \" \"+val\n",
    "        s = s + val\n",
    "    print(s)\n",
    "\n",
    "circuit1.draw(output='mpl')"
   ]
  },
  {
   "cell_type": "markdown",
   "metadata": {},
   "source": [
    "Sprawdźmy inny przykład, teraz naszym zaznaczonym elementem jest $\\ket{01}$."
   ]
  },
  {
   "cell_type": "code",
   "execution_count": null,
   "metadata": {},
   "outputs": [],
   "source": [
    "def oracle_01(circuit,qreg):\n",
    "    circuit.x(qreg[1])\n",
    "    circuit.ccx(qreg[0],qreg[1],qreg[2])\n",
    "    circuit.x(qreg[1])"
   ]
  },
  {
   "cell_type": "code",
   "execution_count": null,
   "metadata": {},
   "outputs": [],
   "source": [
    "from qiskit import QuantumRegister, ClassicalRegister, QuantumCircuit, execute, Aer\n",
    "\n",
    "qreg1 =  QuantumRegister(3)\n",
    "\n",
    "circuit1 = QuantumCircuit(qreg1)\n",
    "\n",
    "# prepare ancilla qubit\n",
    "circuit1.x(qreg1[2])\n",
    "circuit1.h(qreg1[2])\n",
    "\n",
    "#call the oracle\n",
    "oracle_01(circuit1,qreg1)\n",
    "\n",
    "# put ancilla qubit back into state |0>\n",
    "circuit1.h(qreg1[2])\n",
    "circuit1.x(qreg1[2])\n",
    "\n",
    "job = execute(circuit1,Aer.get_backend('unitary_simulator'))\n",
    "u=job.result().get_unitary(circuit1,decimals=3).data\n",
    "for i in range(4):\n",
    "    s=\"\"\n",
    "    for j in range(4):\n",
    "        val = str(round(u[i][j].real,3))\n",
    "        while(len(val)<5): val  = \" \"+val\n",
    "        s = s + val\n",
    "    print(s)\n",
    "\n",
    "circuit1.draw(output='mpl')"
   ]
  },
  {
   "cell_type": "markdown",
   "metadata": {},
   "source": [
    "<h3>Zadanie 8</h3>\n",
    "\n",
    "Zaimplementuj funkcję wyroczni, która zaznacza element $\\ket{00}$. Uruchom wyszukiwanie Grovera za pomocą zaimplementowanej wyroczni. "
   ]
  },
  {
   "cell_type": "code",
   "execution_count": null,
   "metadata": {},
   "outputs": [],
   "source": [
    "def oracle_00(circuit,qreg):\n",
    "    #Your code here\n",
    "    #\n",
    "    #"
   ]
  },
  {
   "cell_type": "code",
   "execution_count": null,
   "metadata": {},
   "outputs": [],
   "source": [
    "from qiskit import QuantumRegister, ClassicalRegister, QuantumCircuit, execute, Aer\n",
    "\n",
    "#Grover's search\n",
    "\n",
    "\n",
    "\n"
   ]
  },
  {
   "cell_type": "markdown",
   "metadata": {},
   "source": [
    "<h3>Zadanie 9 (opcjonalne)</h3>\n",
    "\n",
    "Niech $N = 8$. Zaimplementuj funkcję wyroczni, która zaznacza elementy $\\ket{001}$ i $\\ket{111}$. Uruchom wyszukiwanie Grovera za pomocą zaimplementowanej wyroczni."
   ]
  },
  {
   "cell_type": "code",
   "execution_count": null,
   "metadata": {},
   "outputs": [],
   "source": [
    "def oracle_001_111(circuit,qreg):\n",
    "    #Your code here\n",
    "    #\n",
    "    #"
   ]
  },
  {
   "cell_type": "markdown",
   "metadata": {},
   "source": [
    "Dalsze linki:\n",
    "\n",
    "http://quantumgazette.blogspot.com/2017/12/grovers-algorithm-for-unstructured.html\n",
    "\n",
    "http://twistedoakstudios.com/blog/Post2644_grovers-quantum-search-algorithm"
   ]
  },
  {
   "cell_type": "code",
   "execution_count": null,
   "metadata": {},
   "outputs": [],
   "source": []
  }
 ],
 "metadata": {
  "kernelspec": {
   "display_name": "Python 3 (ipykernel)",
   "language": "python",
   "name": "python3"
  },
  "language_info": {
   "codemirror_mode": {
    "name": "ipython",
    "version": 3
   },
   "file_extension": ".py",
   "mimetype": "text/x-python",
   "name": "python",
   "nbconvert_exporter": "python",
   "pygments_lexer": "ipython3",
   "version": "3.10.8"
  },
  "widgets": {
   "application/vnd.jupyter.widget-state+json": {
    "state": {},
    "version_major": 2,
    "version_minor": 0
   }
  }
 },
 "nbformat": 4,
 "nbformat_minor": 4
}
