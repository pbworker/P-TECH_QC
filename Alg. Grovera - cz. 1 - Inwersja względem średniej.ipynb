{
 "cells": [
  {
   "cell_type": "markdown",
   "metadata": {},
   "source": [
    "$ \\newcommand{\\bra}[1]{\\langle #1|} $\n",
    "$ \\newcommand{\\ket}[1]{|#1\\rangle} $\n",
    "$ \\newcommand{\\braket}[2]{\\langle #1|#2\\rangle} $\n",
    "$ \\newcommand{\\dot}[2]{ #1 \\cdot #2} $\n",
    "$ \\newcommand{\\biginner}[2]{\\left\\langle #1,#2\\right\\rangle} $\n",
    "$ \\newcommand{\\mymatrix}[2]{\\left( \\begin{array}{#1} #2\\end{array} \\right)} $\n",
    "$ \\newcommand{\\myvector}[1]{\\mymatrix{c}{#1}} $\n",
    "$ \\newcommand{\\myrvector}[1]{\\mymatrix{r}{#1}} $\n",
    "$ \\newcommand{\\mypar}[1]{\\left( #1 \\right)} $\n",
    "$ \\newcommand{\\mybigpar}[1]{ \\Big( #1 \\Big)} $\n",
    "$ \\newcommand{\\sqrttwo}{\\frac{1}{\\sqrt{2}}} $\n",
    "$ \\newcommand{\\dsqrttwo}{\\dfrac{1}{\\sqrt{2}}} $\n",
    "$ \\newcommand{\\onehalf}{\\frac{1}{2}} $\n",
    "$ \\newcommand{\\donehalf}{\\dfrac{1}{2}} $\n",
    "$ \\newcommand{\\hadamard}{ \\mymatrix{rr}{ \\sqrttwo & \\sqrttwo \\\\ \\sqrttwo & -\\sqrttwo }} $\n",
    "$ \\newcommand{\\vzero}{\\myvector{1\\\\0}} $\n",
    "$ \\newcommand{\\vone}{\\myvector{0\\\\1}} $\n",
    "$ \\newcommand{\\stateplus}{\\myvector{ \\sqrttwo \\\\  \\sqrttwo } } $\n",
    "$ \\newcommand{\\stateminus}{ \\myrvector{ \\sqrttwo \\\\ -\\sqrttwo } } $\n",
    "$ \\newcommand{\\myarray}[2]{ \\begin{array}{#1}#2\\end{array}} $\n",
    "$ \\newcommand{\\X}{ \\mymatrix{cc}{0 & 1 \\\\ 1 & 0}  } $\n",
    "$ \\newcommand{\\I}{ \\mymatrix{rr}{1 & 0 \\\\ 0 & 1}  } $\n",
    "$ \\newcommand{\\Z}{ \\mymatrix{rr}{1 & 0 \\\\ 0 & -1}  } $\n",
    "$ \\newcommand{\\Htwo}{ \\mymatrix{rrrr}{ \\frac{1}{2} & \\frac{1}{2} & \\frac{1}{2} & \\frac{1}{2} \\\\ \\frac{1}{2} & -\\frac{1}{2} & \\frac{1}{2} & -\\frac{1}{2} \\\\ \\frac{1}{2} & \\frac{1}{2} & -\\frac{1}{2} & -\\frac{1}{2} \\\\ \\frac{1}{2} & -\\frac{1}{2} & -\\frac{1}{2} & \\frac{1}{2} } } $\n",
    "$ \\newcommand{\\CNOT}{ \\mymatrix{cccc}{1 & 0 & 0 & 0 \\\\ 0 & 1 & 0 & 0 \\\\ 0 & 0 & 0 & 1 \\\\ 0 & 0 & 1 & 0} } $\n",
    "$ \\newcommand{\\norm}[1]{ \\left\\lVert #1 \\right\\rVert } $\n",
    "$ \\newcommand{\\pstate}[1]{ \\lceil \\mspace{-1mu} #1 \\mspace{-1.5mu} \\rfloor } $\n",
    "$ \\newcommand{\\greenbit}[1] {\\mathbf{{\\color{green}#1}}} $\n",
    "$ \\newcommand{\\bluebit}[1] {\\mathbf{{\\color{blue}#1}}} $\n",
    "$ \\newcommand{\\redbit}[1] {\\mathbf{{\\color{red}#1}}} $\n",
    "$ \\newcommand{\\brownbit}[1] {\\mathbf{{\\color{brown}#1}}} $\n",
    "$ \\newcommand{\\blackbit}[1] {\\mathbf{{\\color{black}#1}}} $\n",
    "\n",
    "<font style=\"font-size:28px;\" align=\"left\"><b> Algorytm Grovera, cz. 1: Inwersja względem średniej </b></font>"
   ]
  },
  {
   "cell_type": "markdown",
   "metadata": {},
   "source": [
    "Gramy w prostą grę, która ma nam pomóc wyrobić intuicję na temat działania algorytmu Grovera.\n",
    "\n",
    "Mamy listę N elementów. Niektóre z nich są oznaczone. Na początku każdy ma wartość 1.\n",
    "\n",
    "Każda iteracja gry składa się z dwóch faz:\n",
    "<ol>\n",
    "    <li><b>Zapytanie</b>: W tej fazie zakładamy, że każdy oznaczony element zostanie wykryty, a następnie odwrócony zostanie jego znak.\n",
    "    <li><b>Inwersja (odwrócenie)</b>: W tej fazie wartość każdego elementu jest \"odwracana\" względem średniej wszystkich wartości.\n",
    "</ol>"
   ]
  },
  {
   "cell_type": "markdown",
   "metadata": {},
   "source": [
    "<h3>Zadanie 1</h3>\n",
    "\n",
    "Zagrajmy w tę grę dla $N=8$.\n",
    "\n",
    "Załóżmy, że zaznaczony jest tylko czwarty element.\n",
    "\n",
    "Wartości elementów na liście możemy wizualizować na początku w następujący sposób:"
   ]
  },
  {
   "cell_type": "code",
   "execution_count": 6,
   "metadata": {},
   "outputs": [
    {
     "data": {
      "text/plain": [
       "<BarContainer object of 8 artists>"
      ]
     },
     "execution_count": 6,
     "metadata": {},
     "output_type": "execute_result"
    },
    {
     "data": {
      "image/png": "[encoded data removed]",
      "text/plain": [
       "<Figure size 640x480 with 1 Axes>"
      ]
     },
     "metadata": {},
     "output_type": "display_data"
    }
   ],
   "source": [
    "from matplotlib.pyplot import bar\n",
    "\n",
    "labels = []\n",
    "elements = []\n",
    "for i in range(8):\n",
    "    labels = labels + [i+1]\n",
    "    elements  = elements + [1]\n",
    "\n",
    "# wizualizacja wartości elementów na liście\n",
    "bar(labels,elements)"
   ]
  },
  {
   "cell_type": "markdown",
   "metadata": {},
   "source": [
    "Wykonaj jeden krok gry i zwizualizuj wartości elementów na liście po każdej fazie."
   ]
  },
  {
   "cell_type": "markdown",
   "metadata": {},
   "source": [
    "Krok 1. - faza zapytania:"
   ]
  },
  {
   "cell_type": "code",
   "execution_count": null,
   "metadata": {},
   "outputs": [],
   "source": [
    "# \n",
    "# Krok 1. - faza zapytania:\n",
    "#\n",
    "\n",
    "# Twój kod:\n",
    "\n",
    "# wizualizacja wartości elementów na liście\n",
    "bar(labels,elements)"
   ]
  },
  {
   "cell_type": "markdown",
   "metadata": {},
   "source": [
    "Krok 1. - inwersja:"
   ]
  },
  {
   "cell_type": "code",
   "execution_count": null,
   "metadata": {
    "tags": []
   },
   "outputs": [],
   "source": [
    "#\n",
    "# Krok 1. - inwersja:\n",
    "#\n",
    "\n",
    "# policz średnią wszystkich wartości:\n",
    "\n",
    "# teraz odbij każdy element względem średniej, np.:\n",
    "#   jeśli średnia to 0, odbiciem 3 jest -3\n",
    "#   jeśli średnia to 1, odbiciem 3 jest -1\n",
    "#   jeśli średnia to -1, odbiciem 3 jest -5\n",
    "\n",
    "\n",
    "# wizualizacja wartości elementów na liście\n",
    "bar(labels,elements)"
   ]
  },
  {
   "cell_type": "markdown",
   "metadata": {},
   "source": [
    "Wykonaj jeszcze jeden krok gry i zwizualizuj wartości elementów na liście po każdej fazie."
   ]
  },
  {
   "cell_type": "markdown",
   "metadata": {},
   "source": [
    "Krok 2. - faza zapytania:"
   ]
  },
  {
   "cell_type": "code",
   "execution_count": null,
   "metadata": {},
   "outputs": [],
   "source": [
    "# \n",
    "# Krok 2. - faza zapytania:\n",
    "#\n",
    "\n",
    "\n",
    "# wizualizacja wartości elementów na liście\n",
    "bar(labels,elements)"
   ]
  },
  {
   "cell_type": "markdown",
   "metadata": {},
   "source": [
    "Krok 2. - faza inwersji:"
   ]
  },
  {
   "cell_type": "code",
   "execution_count": null,
   "metadata": {},
   "outputs": [],
   "source": [
    "#\n",
    "# Krok 2. - faza inwersji:\n",
    "#\n",
    "\n",
    "\n",
    "# wizualizacja wartości elementów na liście\n",
    "bar(labels,elements)"
   ]
  },
  {
   "cell_type": "markdown",
   "metadata": {},
   "source": [
    "Kontynuuj grę jeszcze przez trzy kroki i zwizualizuj wartości elementów na liście na końcu."
   ]
  },
  {
   "cell_type": "code",
   "execution_count": null,
   "metadata": {},
   "outputs": [],
   "source": [
    "#\n",
    "# Twój kod:\n",
    "#\n",
    "\n",
    "\n",
    "# wizualizacja wartości elementów na liście\n",
    "bar(labels,elements)"
   ]
  },
  {
   "cell_type": "markdown",
   "metadata": {},
   "source": [
    "<a id=\"task2\"></a>\n",
    "<h3>Zadanie 2</h3>\n",
    "\n",
    "Napisz funkcję o nazwie *query* (zapytanie), która \n",
    "- pobiera listę elementów i listę zaznaczonych elementów,\n",
    "- zmienia znak zaznaczonych elementów, a następnie\n",
    "- zwraca listę.\n",
    "\n",
    "Napisz funkcję o nazwie *inversion* (inwersja), która\n",
    "- pobiera listę elementów\n",
    "- odwraca wartość każdego elementu względem średniej wszystkich wartości, a następnie\n",
    "- zwraca listę.\n",
    "\n",
    "Iterujemy tę samą grę podaną w Zadaniu 1 ($ N = 8 $ i czwarty element jest jedynym zaznaczonym) w 20 krokach, używając funkcji *query* i *inversion*. \n",
    "\n",
    "**Tym razem śledzimy wartości tylko czwartego elementu. Po każdym kroku zapisujemy wartości czwartego elementu na liście, a następnie wyświetlamy tę listę w postaci wykresu słupkowego**."
   ]
  },
  {
   "cell_type": "code",
   "execution_count": null,
   "metadata": {},
   "outputs": [],
   "source": [
    "def query(elements=[1],marked_elements=[0]):\n",
    "    #\n",
    "    # Twój kod\n",
    "    #    \n",
    "    return elements"
   ]
  },
  {
   "cell_type": "code",
   "execution_count": null,
   "metadata": {},
   "outputs": [],
   "source": [
    "def inversion (elements=[1]):\n",
    "    #\n",
    "    # Twój kod\n",
    "    #    \n",
    "    return elements"
   ]
  },
  {
   "cell_type": "code",
   "execution_count": null,
   "metadata": {},
   "outputs": [],
   "source": [
    "from matplotlib.pyplot import bar\n",
    "\n",
    "# definiujemy listę o rozmiarze 8, na której każdy element ma wartość 1\n",
    "elements = []\n",
    "for i in range(8):\n",
    "    elements  = elements + [1]\n",
    "\n",
    "# index oznaczonego elementu\n",
    "marked_elements = [3]\n",
    "    \n",
    "# lista iteracji\n",
    "iterations = []\n",
    "# lista przechowująca wartości 4. elementu po każdym kroku\n",
    "L = []\n",
    "\n",
    "# dodajemy do list pierwsza wartości\n",
    "iterations.append(0)\n",
    "L.append(elements[marked_elements[0]])\n",
    "\n",
    "for step in range(20):\n",
    "    # dodajemy nr iteracji\n",
    "    iterations.append(step+1)\n",
    "    #\n",
    "    # Twój kod:\n",
    "    #\n",
    "\n",
    "# wizualizacja wartości 4. elementu po każdej iteracji\n",
    "bar(iterations,L)"
   ]
  },
  {
   "cell_type": "markdown",
   "metadata": {},
   "source": [
    "<h3>Zadanie 3</h3>\n",
    "\n",
    "Powtórz zadanie 2 dla $𝑁=16$ i zaznaczonego elementu 11."
   ]
  },
  {
   "cell_type": "code",
   "execution_count": null,
   "metadata": {},
   "outputs": [],
   "source": [
    "#\n",
    "# Twój kod:\n",
    "#\n"
   ]
  },
  {
   "cell_type": "markdown",
   "metadata": {},
   "source": [
    "<h3>Zadanie 4</h3>\n",
    "\n",
    "Powtórz zadanie 3, śledząc tylko 5. element, gdzie $ N = 16 $, a zaznaczone są 5., 8. i 10. element."
   ]
  },
  {
   "cell_type": "code",
   "execution_count": null,
   "metadata": {},
   "outputs": [],
   "source": [
    "#\n",
    "# Twój kod\n",
    "#\n"
   ]
  },
  {
   "cell_type": "markdown",
   "metadata": {},
   "source": [
    "<h3>Zadanie 5</h3>\n",
    "\n",
    "Iterujemy tę samą grę w 20 krokach, gdzie $ N = 16 $, a zaznaczone są pierwsze cztery elementy. \n",
    "\n",
    "Wypisz długość listy elementów (_tzn. potraktuj ją jako wektor_) po każdej fazie zapytania i inwersji. \n",
    "\n",
    "*Zwróć uwagę, że początkowa długość wynosi $ \\sqrt{ \\sum_{i=1}^{N} 1^2 } = \\sqrt{N} = \\sqrt{16} =4 $.*."
   ]
  },
  {
   "cell_type": "code",
   "execution_count": null,
   "metadata": {},
   "outputs": [],
   "source": [
    "#\n",
    "# Twój kod:\n",
    "#\n"
   ]
  },
  {
   "cell_type": "markdown",
   "metadata": {},
   "source": [
    "<h3>Zadanie 6 </h3>\n",
    "\n",
    "Powtórz zadanie 5 dla $ N = 10 $ i zaznaczonego ostatniego elementu."
   ]
  },
  {
   "cell_type": "code",
   "execution_count": null,
   "metadata": {},
   "outputs": [],
   "source": [
    "#\n",
    "# Twój kod:\n",
    "#\n"
   ]
  },
  {
   "cell_type": "markdown",
   "metadata": {},
   "source": [
    "### Gra zachowująca długość\n",
    "\n",
    "Jak wynika z ostatnich dwóch zadań, każda faza gry jest operatorem (funkcją) zachowującym długość.\n",
    "\n",
    "*Czy uważasz, że operatory zapytań i inwersji są liniowe? A dokładniej, czy możemy przedstawić je w postaci macierzy?*\n",
    "\n",
    "Odpowiedź dla operatora zapytania jest łatwa, ponieważ zmienia on tylko znak zaznaczonych elementów, a zatem jego postać macierzowa jest bardzo podobna do macierzy tożsamości mającej -1 w niektórych wpisach po przekątnej."
   ]
  },
  {
   "cell_type": "markdown",
   "metadata": {},
   "source": [
    "<h3> Zmodyfikowana gra </h3>\n",
    "\n",
    "W tej części ograniczamy grę, gwarantując, że lista reprezentuje stan kwantowy."
   ]
  },
  {
   "cell_type": "markdown",
   "metadata": {},
   "source": [
    "<h3>Zadanie 7</h3>\n",
    "\n",
    "Jakie są wartości początkowe dla zmodyfikowanej gry, jeśli $N=8$?"
   ]
  },
  {
   "cell_type": "markdown",
   "metadata": {},
   "source": [
    "<h3>Zadanie 8</h3>\n",
    "\n",
    "Iteruj zmodyfikowaną grę przez 20 kroków, gdzie $ N = 8 $, a zaznaczony jest drugi element.\n",
    "\n",
    "Wypisz listę elementów po każdej iteracji.\n",
    "\n",
    "Sprawdź, czy długość listy wynosi 1 po każdej iteracji."
   ]
  },
  {
   "cell_type": "code",
   "execution_count": null,
   "metadata": {},
   "outputs": [],
   "source": [
    "#\n",
    "# Twój kod\n",
    "#\n"
   ]
  },
  {
   "cell_type": "markdown",
   "metadata": {},
   "source": [
    "<h3>Zadanie 9</h3>\n",
    "\n",
    "Powtórz zadanie 8 dla $ N = 16 $ i zaznaczonych pierwszych 12 elementów."
   ]
  },
  {
   "cell_type": "code",
   "execution_count": null,
   "metadata": {},
   "outputs": [],
   "source": [
    "#\n",
    "# Twój kod:\n",
    "#\n"
   ]
  },
  {
   "cell_type": "markdown",
   "metadata": {},
   "source": [
    "## Algorytm wyszukiwania kwantowego (Algorytm Grovera)\n",
    "\n",
    "\n",
    "Zmodyfikowana gra jest główną częścią algorytmu Grovera.\n",
    "\n",
    "\n",
    "Załóżmy, że mamy listę nieuporządkowaną i szukamy konkretnego elementu zwanego $elementem$ $oznaczonym$.\n",
    "- Dostęp do listy uzyskujemy poprzez wyrocznię: możemy zadawać zapytania dotyczące zawartości listy.\n",
    "- Jeśli na liście znajduje się $ N $ elementów, używamy $ \\log(N) $ kubitów. (Załóżmy, że $N$ jest potęgą liczby 2.)\n",
    "- Każdy stan bazowy, tj. $|0 \\cdots 0>, \\ldots, |1 \\cdots 1>$, odpowiada indeksowi listy.\n",
    "- Jeśli poszukiwany element zostanie wykryty, wyrocznia odwraca znak odpowiedniej amplitudy.\n",
    "\n",
    "\n",
    "<i style=\"color:blue;\">Zauważ, że w powyższych grach symulujemy wyrocznię, znając wcześniej zaznaczone elementy. W rzeczywistej implementacji wyrocznia powinna mieć mechanizm kwantowy wykrywający zaznaczone elementy, będąc w superpozycji wszystkich indeksów, a następnie znak odpowiedniej amplitudy zostanie automatycznie odwrócony. W rzeczywistości jest to główne wyzwanie technologiczne związane z implementacją algorytmu Grovera.</i>\n",
    "\n",
    "\n",
    "Na początku do każdego kubitu stosowany jest operator Hadamarda. Zatem amplituda każdego stanu bazowego jest ustawiona na $ \\frac{1}{\\sqrt{N}} $. Następnie w kolejnych iteracjach gry zmieniają się amplitudy oznaczonych i nieoznaczonych elementów."
   ]
  },
  {
   "cell_type": "markdown",
   "metadata": {},
   "source": [
    "<h4> Liczba iteracji </h4>\n",
    "\n",
    "Gdy liczba oznaczonych elementów jest mniejsza niż elementów nieoznaczonych, amplitudy oznaczonych elementów zaczynają rosnąć. \n",
    "\n",
    "Następnie osiągamy pierwszy szczyt, w którym prawdopodobieństwo zaobserwowania zaznaczonego elementu przyjmuje maksymalną wartość.\n",
    "\n",
    "Po przekroczeniu tego punktu amplituda oznaczonych elementów zaczyna spadać."
   ]
  },
  {
   "cell_type": "markdown",
   "metadata": {},
   "source": [
    "<h4> Fazy </h4>\n",
    "\n",
    "Operator w każdej fazie jest unitarny (liniowy).\n",
    "\n",
    "Macierz unitarna w fazie zapytania zależy od danych wejściowych, natomiast operator unitarny w fazie inwersji nie zależy od danych wejściowych.\n",
    "\n",
    "<b>W fazie zapytania</b> amplitudy zaznaczonych elementów zmieniają znak.\n",
    "\n",
    "<b>W fazie inwersji</b> dla każdej amplitudy $ x $ nowa wartość jest obliczana jako $ średnia - (x - średnia) = 2 średnia -x $.\n",
    "\n",
    "Średnią wektora kolumnowego o rozmiarze $ N $ można obliczyć, mnożąc go przez następujący wektor wierszowy od lewej:\n",
    "\n",
    "$$ \\myvector{ \\frac{1}{N} ~~ \\frac{1}{N} ~~ \\cdots ~~ \\frac{1}{N}} . $$\n",
    "\n",
    "\n",
    "Rozważając wszystkie elementy na liście, pracujemy z macierzą. Macierz dla drugiej fazy powinna mieć postać:\n",
    "\n",
    "$$ D = 2 \\mymatrix{ccc}{\n",
    "     \\frac{1}{N} & \\cdots & \\frac{1}{N} \\\\\n",
    "     \\vdots & \\ddots & \\vdots \\\\\n",
    "     \\frac{1}{N} & \\cdots & \\frac{1}{N} \\\\\n",
    "     }\n",
    "- I . $$"
   ]
  },
  {
   "cell_type": "markdown",
   "metadata": {},
   "source": [
    "<h3> Zadanie 10</h3>\n",
    "\n",
    "Upewnij się, że $ D \\myvector{x_1 \\\\ \\vdots \\\\ x_N} = \\myvector{ 2m-x_1 \\\\ \\vdots \\\\ 2m-x_N } $, gdzie $ m = \\dfrac{ \\sum_{i=1} ^N x_i } { N} $."
   ]
  },
  {
   "cell_type": "markdown",
   "metadata": {},
   "source": [
    "<h3> Zadanie 11</h3>\n",
    "\n",
    "Niech $ A = \\mymatrix{ccc}{\n",
    "     \\frac{1}{N} & \\cdots & \\frac{1}{N} \\\\\n",
    "     \\vdots & \\ddots & \\vdots \\\\\n",
    "     \\frac{1}{N} & \\cdots & \\frac{1}{N} \\\\\n",
    "     } $.\n",
    "Przekonaj się, że $ A^2 = A $ i $ D^T = D $.\n",
    "\n",
    "Ponieważ $ D = 2A - I $, przekonaj się, że macierz $ D $ jest unitarna, pokazując, że $ D^T \\cdot D = I $, tj. $ (2A-I)(2A-I) = I $."
   ]
  },
  {
   "cell_type": "markdown",
   "metadata": {},
   "source": [
    "## Ogólna postać algorytmu wyszukiwania Grovera\n",
    "\n",
    "Załóżmy, że na liście $L$ znajduje się $N=2^n$ elementów i jeden z nich jest oznaczony.\n",
    "\n",
    "Załóżmy, że istnieje funkcja $f$, która ma następujące właściwości:\n",
    "\\begin{align*}\n",
    "f(x)&=1 &\\mbox{ jeśli zaznaczono $x$}\\\\\n",
    "f(x)&=0 &\\mbox{ w przeciwnym razie}\n",
    "\\end{align*}\n",
    "\n",
    "Algorytm Grovera dla danej funkcji $f$ znajduje na liście $L$ element $x$ taki, że $f(x)=1$."
   ]
  },
  {
   "cell_type": "markdown",
   "metadata": {},
   "source": [
    "W klasycznym przypadku zwykle trzeba by było zapytać $f$ o wszystkie możliwe dane wejściowe, aby znaleźć $x$ spełniający $f(x)=1$. Złożoność takiego algorytmu to </font>$O (N)$.\n",
    "\n",
    "Algorytm Grovera jest w stanie wykonać to samo zadanie w czasie $O(\\sqrt{N})$.\n",
    "\n",
    "(<i>$O(N)$ to notacja dużego O. Sprawdź definicję, jeśli widzisz ją po raz pierwszy.</i>)\n",
    "\n",
    "**Uwaga 1:** Algorytm działa również w przypadku, gdy zaznaczonych jest wiele elementów, ale dla uproszczenia zakładamy, że zaznaczono tylko 1 element.\n",
    "\n",
    "**Uwaga 2:** Algorytm Grovera nie ogranicza się do listy. Można go zastosować do dowolnej przestrzeni poszukiwań, o ile potrafimy skonstruować odpowiednią funkcję 𝑓."
   ]
  }
 ],
 "metadata": {
  "kernelspec": {
   "display_name": "Python 3 (ipykernel)",
   "language": "python",
   "name": "python3"
  },
  "language_info": {
   "codemirror_mode": {
    "name": "ipython",
    "version": 3
   },
   "file_extension": ".py",
   "mimetype": "text/x-python",
   "name": "python",
   "nbconvert_exporter": "python",
   "pygments_lexer": "ipython3",
   "version": "3.10.8"
  },
  "widgets": {
   "application/vnd.jupyter.widget-state+json": {
    "state": {},
    "version_major": 2,
    "version_minor": 0
   }
  }
 },
 "nbformat": 4,
 "nbformat_minor": 4
}
