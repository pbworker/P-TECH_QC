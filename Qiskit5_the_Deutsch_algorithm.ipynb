{
 "cells": [
  {
   "cell_type": "markdown",
   "id": "4381a265",
   "metadata": {},
   "source": [
    "# The Deutsch Algorithm"
   ]
  },
  {
   "cell_type": "code",
   "execution_count": null,
   "id": "d9734486",
   "metadata": {
    "tags": []
   },
   "outputs": [],
   "source": [
    "# import Qiskit\n",
    "from qiskit import IBMQ, Aer\n",
    "from qiskit.providers.ibmq import least_busy\n",
    "from qiskit import QuantumCircuit, assemble, transpile, QuantumRegister, ClassicalRegister\n",
    "from qiskit.providers.aer import QasmSimulator\n",
    "from qiskit.providers.ibmq import least_busy\n",
    "\n",
    "# import visalization tools\n",
    "from qiskit.visualization import plot_histogram\n",
    "from qiskit.tools.visualization import circuit_drawer"
   ]
  },
  {
   "cell_type": "markdown",
   "id": "2dc0ba68",
   "metadata": {},
   "source": [
    "Review of the necessary information\n",
    "\n",
    "- Quantum gates:\n",
    "\n",
    "$$ I = \\begin{bmatrix}1 & 0 \\\\ 0 & 1\\end{bmatrix},\\ \\ \\hspace{15mm}\n",
    "\\left\\{ \\begin{array}{l}\n",
    "I|0\\rangle = |0\\rangle \\\\\n",
    "I|1\\rangle = |1\\rangle \\\\ \n",
    "\\end{array} \\right. $$ \n",
    "\n",
    "$$ X = \\begin{bmatrix}0 & 1 \\\\ 1 & 0\\end{bmatrix},\\ \\ \\hspace{15mm}\n",
    "\\left\\{ \\begin{array}{l}\n",
    "X|0\\rangle = |1\\rangle \\\\\n",
    "X|1\\rangle = |0\\rangle \\\\ \n",
    "\\end{array} \\right. $$ \n",
    "        \n",
    "$$ Z = \\begin{bmatrix}1 & 0\\\\ 0&-1\\end{bmatrix}, \\ \\ \\hspace{15mm}\n",
    "\\left\\{ \\begin{array}{l}\n",
    "Z|0\\rangle = |0\\rangle \\\\\n",
    "Z|1\\rangle = -|1\\rangle \\\\ \n",
    "\\end{array} \\right. $$\n",
    "\n",
    "$$ H = \\frac{1}{\\sqrt{2}}\n",
    "\\begin{bmatrix}\n",
    "    1 & 1 \\\\\n",
    "    1 & -1\n",
    "\\end{bmatrix}, \\ \\ \\hspace{5mm}\n",
    "\\left\\{ \\begin{array}{l}\n",
    "H|0\\rangle = |+\\rangle \\\\\n",
    "H|1\\rangle = |-\\rangle \\\\ \n",
    "\\end{array} \\right.$$\n",
    "\n",
    "$$ CNOT =\n",
    "\\begin{bmatrix}\n",
    "    1 & 0 & 0 & 0 \\\\\n",
    "    0 & 1 & 0 & 0 \\\\\n",
    "    0 & 0 & 0 & 1 \\\\\n",
    "    0 & 0 & 1 & 0 \\\\\n",
    "\\end{bmatrix}, \\ \\ \\hspace{5mm}\n",
    "\\left\\{ \\begin{array}{l}\n",
    "CNOT|00\\rangle = |00\\rangle \\\\\n",
    "CNOT|01\\rangle = |01\\rangle \\\\\n",
    "CNOT|10\\rangle = |11\\rangle \\\\\n",
    "CNOT|11\\rangle = |10\\rangle \\\\\n",
    "\\end{array} \\right.$$\n",
    "\n",
    "- Creating [quantum circuits](https://qiskit.org/documentation/stubs/qiskit.circuit.QuantumCircuit.html) in Qiskit:\n",
    "    \n",
    "    \n",
    "    circuit = QuantumCircuit(n,m)    # quantum circuit with n qubits and m classical bits\n",
    "\n",
    "- Using [quantum gates](https://qiskit.org/documentation/tutorials/circuits/3_summary_of_quantum_operations.html#Identity-gate]):\n",
    "\n",
    "\n",
    "    circuit.i(0)    # identity\n",
    "    circuit.x(0)    # bit flip\n",
    "    circuit.z(0)    # phase flip\n",
    "    circuit.h(0)    # superpostion\n",
    "    circuit.cx(0,1) # entanglement"
   ]
  },
  {
   "cell_type": "markdown",
   "id": "2a606d44",
   "metadata": {},
   "source": [
    "## The Deutsch oracle"
   ]
  },
  {
   "cell_type": "markdown",
   "id": "a705b497",
   "metadata": {},
   "source": [
    "<img src=\"https://i.imgur.com/p6BXLSp.png\" style=\"width:400px;\"> <br>\n",
    "$$\\text{XOR truth table}$$\n",
    "\n",
    "|x|y|x ⊕ y|\n",
    "|---|---|---|\n",
    "|    0    |    0    |     0     |\n",
    "|    0    |    1    |     1     |\n",
    "|    1    |    0    |     1     |\n",
    "|    1    |    1    |     0     |\n"
   ]
  },
  {
   "cell_type": "markdown",
   "id": "dfd72321",
   "metadata": {},
   "source": [
    "## The constant 0 oracle\n",
    "$$f_0(0) = 0$$\n",
    "$$f_0(1) = 0$$\n",
    "<div class=\"alert alert-block alert-info\">\n",
    "<b>Exercise 1: </b> <br>\n",
    "a) Check how the oracle behaves for all the possible input states: $|00\\rangle$,  $|01\\rangle$,  $|10\\rangle$,  $|11\\rangle$. <br>\n",
    "    \n",
    "![Imgur](https://i.imgur.com/IySCvsF.png)\n",
    "\n",
    "b) Implement the oracle."
   ]
  },
  {
   "cell_type": "code",
   "execution_count": null,
   "id": "23291b32",
   "metadata": {
    "tags": []
   },
   "outputs": [],
   "source": [
    "def constant_0_oracle():\n",
    "    circuit =  ... # create a QuantumCircuit with 2 qubits\n",
    "    #\n",
    "    # encode the oracle using proper quantum gates\n",
    "    #    \n",
    "    return circuit"
   ]
  },
  {
   "cell_type": "markdown",
   "id": "cc77cf30",
   "metadata": {},
   "source": [
    "## The constant 1 oracle\n",
    "$$f_1(0) = 1$$\n",
    "$$f_1(1) = 1$$\n",
    "<div class=\"alert alert-block alert-info\">\n",
    "<b>Exercise 2: </b> <br>\n",
    "a) Check how the oracle behaves for all the possible input states: $|00\\rangle$,  $|01\\rangle$,  $|10\\rangle$,  $|11\\rangle$. <br>\n",
    "    \n",
    "![Imgur](https://i.imgur.com/JJsZoJj.png)\n",
    "\n",
    "b) Implement the oracle."
   ]
  },
  {
   "cell_type": "code",
   "execution_count": null,
   "id": "73cadc42",
   "metadata": {
    "tags": []
   },
   "outputs": [],
   "source": [
    "def constant_1_oracle():\n",
    "    circuit = ... # create a QuantumCircuit with 2 qubits\n",
    "    #\n",
    "    # encode the oracle using quantum gates\n",
    "    #    \n",
    "    return circuit"
   ]
  },
  {
   "cell_type": "markdown",
   "id": "706de627",
   "metadata": {},
   "source": [
    "## The balanced identity oracle\n",
    "$$f_I(0) = 0$$\n",
    "$$f_I(1) = 1$$\n",
    "<div class=\"alert alert-block alert-info\">\n",
    "<b>Exercise 3: </b> <br>\n",
    "a) Check how the oracle behaves for all the possible input states: $|00\\rangle$,  $|01\\rangle$,  $|10\\rangle$,  $|11\\rangle$. <br>\n",
    "    \n",
    "![Imgur](https://i.imgur.com/gmKNwf3.png)\n",
    "    \n",
    "b) Implement the oracle."
   ]
  },
  {
   "cell_type": "code",
   "execution_count": null,
   "id": "abe36714",
   "metadata": {
    "tags": []
   },
   "outputs": [],
   "source": [
    "def balanced_I_oracle():\n",
    "    circuit = ... # create a QuantumCircuit with 2 qubits\n",
    "    #\n",
    "    # encode the oracle using quantum gates\n",
    "    #\n",
    "    return circuit"
   ]
  },
  {
   "cell_type": "markdown",
   "id": "a719bb0e",
   "metadata": {},
   "source": [
    "## The balanced negation oracle\n",
    "$$f_X(0) = 1$$\n",
    "$$f_X(1) = 0$$\n",
    "<div class=\"alert alert-block alert-info\">\n",
    "<b>Exercise 4: </b> <br>\n",
    "a) Check how the oracle behaves for all the possible input states: $|00\\rangle$,  $|01\\rangle$,  $|10\\rangle$,  $|11\\rangle$. <br>\n",
    "\n",
    "![Imgur](https://i.imgur.com/hAKsqXU.png)\n",
    "\n",
    "b) Implement the oracle."
   ]
  },
  {
   "cell_type": "code",
   "execution_count": null,
   "id": "77141527",
   "metadata": {
    "tags": []
   },
   "outputs": [],
   "source": [
    "def balanced_X_oracle():\n",
    "    circuit = ... # create a QuantumCircuit with 2 qubits\n",
    "    #\n",
    "    # encode the oracle using quantum gates\n",
    "    #    \n",
    "    return circuit"
   ]
  },
  {
   "cell_type": "markdown",
   "id": "152c4bfd",
   "metadata": {},
   "source": [
    "<div class=\"alert alert-block alert-info\">\n",
    "<b>Exercise 5:</b> <br>\n",
    "Implement the Deutsch Algorithm:\n",
    "<img src=\"https://i.imgur.com/rRP65q6.png\" style=\"width:400px;\"> <br>\n",
    "1. Create a QuantumCircuit with 2 qubits and 1 classical bit. <br>\n",
    "2. Apply the necessary quantum gates before the oracle $U_{f_{?}}.$<br>\n",
    "3. Compose the oracle $U_{f_{?}}$ into the circuit. <br>\n",
    "    \n",
    "    \n",
    "     circuit = circuit.compose(oracle_circuit, range(2))\n",
    "4. Apply the necessary quantum gates after the oracle $U_{f_{?}}.$<br>\n",
    "3. Measure the top qubit, and store the result in the classical bit <br>\n",
    "    \n",
    "    \n",
    "    circuit.measure(qubit, 0) # substitute 'qubit' with the top qubit id\n",
    "    \n",
    "Tip: \n",
    "    \n",
    "- Barriers enable us to display the circuit in a clearer way\n",
    "    \n",
    "    \n",
    "    circuit.barrier()"
   ]
  },
  {
   "cell_type": "code",
   "execution_count": null,
   "id": "b01dabc7",
   "metadata": {
    "tags": []
   },
   "outputs": [],
   "source": [
    "def deutsch_circuit(oracle_circuit):\n",
    "    circuit =  ... # create a QuantumCircuit with 2 qubits and 1 classical bit\n",
    "    #\n",
    "    # your code here, follow the steps 2 - 5\n",
    "    #\n",
    "    return circuit"
   ]
  },
  {
   "cell_type": "code",
   "execution_count": null,
   "id": "ddf27a04",
   "metadata": {
    "tags": []
   },
   "outputs": [],
   "source": [
    "def simulate_deutsch(circuit):\n",
    "    # use QuasmSimulator as the backend\n",
    "    backend = QasmSimulator()\n",
    "   \n",
    "    # trabspile the circuit\n",
    "    qc_compiled = transpile(circuit, backend, optimization_level=1)\n",
    "    \n",
    "    # simulate the circuit\n",
    "    job_sim = backend.run(qc_compiled, shots=1024)\n",
    "    \n",
    "    # get simulation results\n",
    "    result_sim = job_sim.result()\n",
    "    counts = result_sim.get_counts(qc_compiled)\n",
    "    \n",
    "    # print the results\n",
    "    print(f\"The measurement results is: {counts},\")\n",
    "    if len(counts) == 1:\n",
    "        if '1' in counts.keys():\n",
    "            print(\"this function is balanced.\")\n",
    "        else:\n",
    "            print(\"this function is constant.\")"
   ]
  },
  {
   "cell_type": "markdown",
   "id": "3850f4a8-4602-4624-a9e4-dad220274f15",
   "metadata": {
    "tags": []
   },
   "source": [
    "Uncomment only one of the lines below to create a selected oracle."
   ]
  },
  {
   "cell_type": "code",
   "execution_count": null,
   "id": "a917a13f",
   "metadata": {
    "tags": []
   },
   "outputs": [],
   "source": [
    "# oracle_circuit = constant_0_oracle()\n",
    "# oracle_circuit = constant_1_oracle()\n",
    "# oracle_circuit = balanced_I_oracle()\n",
    "# oracle_circuit = balanced_X_oracle()\n",
    "\n",
    "circuit = deutsch_circuit(oracle_circuit)\n",
    "circuit.draw('mpl')\n"
   ]
  },
  {
   "cell_type": "code",
   "execution_count": null,
   "id": "8a973c9f",
   "metadata": {
    "tags": []
   },
   "outputs": [],
   "source": [
    "simulate_deutsch(circuit)"
   ]
  },
  {
   "cell_type": "markdown",
   "id": "88a43c26",
   "metadata": {},
   "source": [
    "<div class=\"alert alert-block alert-info\">\n",
    "<b>Homework:</b> <br>\n",
    "Experiment with a real device."
   ]
  },
  {
   "cell_type": "code",
   "execution_count": null,
   "id": "0168e880",
   "metadata": {
    "tags": []
   },
   "outputs": [],
   "source": [
    "IBMQ.load_account() \n",
    "provider = IBMQ.get_provider(hub='ibm-q')\n",
    "\n",
    "# number of qubits needed\n",
    "n=2 \n",
    "\n",
    "# select the least busy device that is not a simylator\n",
    "backend = least_busy(provider.backends(filters=lambda x: x.configuration().n_qubits > n and\n",
    "                                   not x.configuration().simulator and x.status().operational==True))\n",
    "print(\"least busy backend: \", backend)"
   ]
  },
  {
   "cell_type": "code",
   "execution_count": null,
   "id": "19d71b65",
   "metadata": {
    "tags": []
   },
   "outputs": [],
   "source": [
    "# run the circuit on the least busy backend, monitor the execution of the job in the queue\n",
    "from qiskit.tools.monitor import job_monitor\n",
    "\n",
    "transpiled_circuit = transpile(circuit, backend, optimization_level=3)\n",
    "job = backend.run(transpiled_circuit)\n",
    "job_monitor(job, interval=2)"
   ]
  },
  {
   "cell_type": "code",
   "execution_count": null,
   "id": "ff0038ef",
   "metadata": {
    "tags": []
   },
   "outputs": [],
   "source": [
    "# get the results of the computation\n",
    "results = job.result()\n",
    "answer = results.get_counts()\n",
    "\n",
    "plot_histogram(answer)"
   ]
  },
  {
   "cell_type": "code",
   "execution_count": null,
   "id": "4232b543-81e8-4530-8b20-b32fed77ddac",
   "metadata": {},
   "outputs": [],
   "source": []
  }
 ],
 "metadata": {
  "kernelspec": {
   "display_name": "Python 3 (ipykernel)",
   "language": "python",
   "name": "python3"
  },
  "language_info": {
   "codemirror_mode": {
    "name": "ipython",
    "version": 3
   },
   "file_extension": ".py",
   "mimetype": "text/x-python",
   "name": "python",
   "nbconvert_exporter": "python",
   "pygments_lexer": "ipython3",
   "version": "3.8.2"
  },
  "widgets": {
   "application/vnd.jupyter.widget-state+json": {
    "state": {},
    "version_major": 2,
    "version_minor": 0
   }
  }
 },
 "nbformat": 4,
 "nbformat_minor": 5
}
